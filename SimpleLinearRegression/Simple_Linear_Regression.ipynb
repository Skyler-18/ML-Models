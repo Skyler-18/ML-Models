{
 "cells": [
  {
   "cell_type": "markdown",
   "id": "0658d7ec-8ff9-44d5-a44b-13a81048ff45",
   "metadata": {},
   "source": [
    "# Simple Linear Regression from Scratch"
   ]
  },
  {
   "cell_type": "markdown",
   "id": "3d1f1372-e644-496e-b40a-9ed59a3c1727",
   "metadata": {},
   "source": [
    "## Introduction"
   ]
  },
  {
   "cell_type": "markdown",
   "id": "846dec49-858d-46ec-9086-cfede3167fad",
   "metadata": {},
   "source": [
    "#### Linear regression is one of the simplest and most widely used machine learning algorithms for predictive modeling. It assumes a linear relationship between the input features (X) and the target variable (y). Here, I build a linear regression model from scratch without relying on libraries like scikit-learn."
   ]
  },
  {
   "cell_type": "markdown",
   "id": "dcae9a57-35b6-47ed-be1a-2688faeb1f0c",
   "metadata": {},
   "source": [
    "## Implementing the Linear Regression Model"
   ]
  },
  {
   "cell_type": "markdown",
   "id": "845f48ff-1eb4-45d1-a1fe-b77650943f04",
   "metadata": {},
   "source": [
    "#### I define a class MyLinearRegressor that encapsulates the logic for fitting the model and making predictions.\n",
    "\n",
    "#### Key Steps:\n",
    "* **Initialization**: Initialize the slope (m) and intercept (b) as None.\n",
    "* **Fitting the Model (fit method)**:\n",
    "    * Calculate the mean of the training data.\n",
    "    * Compute the slope (m) and intercept (b) using the least squares method.\n",
    "    * Print the learned parameters for transparency.\n",
    "* **Making Predictions (predict method)**: Use the learned parameters to predict the target variable for new data."
   ]
  },
  {
   "cell_type": "code",
   "execution_count": 2,
   "id": "8d82f155-b8ed-4d8e-8171-111192cbf550",
   "metadata": {},
   "outputs": [],
   "source": [
    "class MyLinearRegressor:\n",
    "    def __init__(self):\n",
    "        self.m = None  # Slope\n",
    "        self.b = None  # Intercept\n",
    "\n",
    "    def fit(self, X_train, y_train):\n",
    "        num = 0\n",
    "        den = 0\n",
    "\n",
    "        # Calculate the mean of X and y\n",
    "        X_train_mean = X_train.mean()\n",
    "        y_train_mean = y_train.mean()\n",
    "        \n",
    "        # Compute the slope (m) and intercept (b)\n",
    "        for i in range(X_train.shape[0]):\n",
    "            num += ((X_train[i] - X_train_mean) * (y_train[i] - y_train_mean))\n",
    "            den += (X_train[i] - X_train_mean) ** 2\n",
    "\n",
    "        self.m = num / den\n",
    "        self.b = y_train_mean - (self.m * X_train_mean)\n",
    "\n",
    "        print(\"Slope is: \", self.m)\n",
    "        print(\"Intercept is: \", self.b)\n",
    "\n",
    "    def predict(self, X_test):\n",
    "        return (self.m * X_test) + self.b  # y = mx + b"
   ]
  },
  {
   "cell_type": "code",
   "execution_count": 3,
   "id": "f3b3d6e4-af7a-42d3-a3f0-dbc7bf0c5459",
   "metadata": {},
   "outputs": [
    {
     "name": "stdout",
     "output_type": "stream",
     "text": [
      "Requirement already satisfied: numpy in c:\\users\\hp\\.pyenv\\pyenv-win\\versions\\3.8.10\\lib\\site-packages (1.24.4)\n",
      "Requirement already satisfied: pandas in c:\\users\\hp\\.pyenv\\pyenv-win\\versions\\3.8.10\\lib\\site-packages (2.0.3)\n",
      "Requirement already satisfied: pytz>=2020.1 in c:\\users\\hp\\.pyenv\\pyenv-win\\versions\\3.8.10\\lib\\site-packages (from pandas) (2025.2)\n",
      "Requirement already satisfied: python-dateutil>=2.8.2 in c:\\users\\hp\\.pyenv\\pyenv-win\\versions\\3.8.10\\lib\\site-packages (from pandas) (2.9.0.post0)\n",
      "Requirement already satisfied: tzdata>=2022.1 in c:\\users\\hp\\.pyenv\\pyenv-win\\versions\\3.8.10\\lib\\site-packages (from pandas) (2025.2)\n",
      "Requirement already satisfied: six>=1.5 in c:\\users\\hp\\.pyenv\\pyenv-win\\versions\\3.8.10\\lib\\site-packages (from python-dateutil>=2.8.2->pandas) (1.17.0)\n"
     ]
    },
    {
     "name": "stderr",
     "output_type": "stream",
     "text": [
      "WARNING: You are using pip version 21.1.1; however, version 25.0.1 is available.\n",
      "You should consider upgrading via the 'c:\\users\\hp\\.pyenv\\pyenv-win\\versions\\3.8.10\\python.exe -m pip install --upgrade pip' command.\n"
     ]
    }
   ],
   "source": [
    "!pip install numpy pandas"
   ]
  },
  {
   "cell_type": "markdown",
   "id": "a0ecfa4e-10fe-4847-9549-e7b6c762b5fb",
   "metadata": {},
   "source": [
    "## Training and Testing the Model"
   ]
  },
  {
   "cell_type": "markdown",
   "id": "50d38431-dfd8-4c15-bfb7-244bab8d9e71",
   "metadata": {},
   "source": [
    "#### Steps:\n",
    "- **Load the Data**: Use a dataset containing CGPA and placement package information.\n",
    "- **Split the Data**: Divide the dataset into training and testing sets.\n",
    "- **Train the Model**: Fit the model on the training data.\n",
    "- **Make Predictions**: Predict the target variable for the test set."
   ]
  },
  {
   "cell_type": "code",
   "execution_count": 4,
   "id": "a1dd2c9c-8955-42e3-b618-f63cf0006bb2",
   "metadata": {},
   "outputs": [],
   "source": [
    "import numpy as np\n",
    "import pandas as pd"
   ]
  },
  {
   "cell_type": "code",
   "execution_count": 5,
   "id": "7ed51bf5-197c-4599-97ab-fc536b749301",
   "metadata": {},
   "outputs": [],
   "source": [
    "# Load the dataset\n",
    "df = pd.read_csv('placement.csv')"
   ]
  },
  {
   "cell_type": "code",
   "execution_count": 6,
   "id": "3f067f7f-9f97-40f6-9f2a-16d492669e54",
   "metadata": {},
   "outputs": [
    {
     "data": {
      "text/html": [
       "<div>\n",
       "<style scoped>\n",
       "    .dataframe tbody tr th:only-of-type {\n",
       "        vertical-align: middle;\n",
       "    }\n",
       "\n",
       "    .dataframe tbody tr th {\n",
       "        vertical-align: top;\n",
       "    }\n",
       "\n",
       "    .dataframe thead th {\n",
       "        text-align: right;\n",
       "    }\n",
       "</style>\n",
       "<table border=\"1\" class=\"dataframe\">\n",
       "  <thead>\n",
       "    <tr style=\"text-align: right;\">\n",
       "      <th></th>\n",
       "      <th>cgpa</th>\n",
       "      <th>package</th>\n",
       "    </tr>\n",
       "  </thead>\n",
       "  <tbody>\n",
       "    <tr>\n",
       "      <th>0</th>\n",
       "      <td>6.89</td>\n",
       "      <td>3.26</td>\n",
       "    </tr>\n",
       "    <tr>\n",
       "      <th>1</th>\n",
       "      <td>5.12</td>\n",
       "      <td>1.98</td>\n",
       "    </tr>\n",
       "    <tr>\n",
       "      <th>2</th>\n",
       "      <td>7.82</td>\n",
       "      <td>3.25</td>\n",
       "    </tr>\n",
       "    <tr>\n",
       "      <th>3</th>\n",
       "      <td>7.42</td>\n",
       "      <td>3.67</td>\n",
       "    </tr>\n",
       "    <tr>\n",
       "      <th>4</th>\n",
       "      <td>6.94</td>\n",
       "      <td>3.57</td>\n",
       "    </tr>\n",
       "  </tbody>\n",
       "</table>\n",
       "</div>"
      ],
      "text/plain": [
       "   cgpa  package\n",
       "0  6.89     3.26\n",
       "1  5.12     1.98\n",
       "2  7.82     3.25\n",
       "3  7.42     3.67\n",
       "4  6.94     3.57"
      ]
     },
     "execution_count": 6,
     "metadata": {},
     "output_type": "execute_result"
    }
   ],
   "source": [
    "df.head()"
   ]
  },
  {
   "cell_type": "code",
   "execution_count": 7,
   "id": "7d846957-ac80-490c-9080-2957ee6ca801",
   "metadata": {},
   "outputs": [
    {
     "data": {
      "text/plain": [
       "(200, 2)"
      ]
     },
     "execution_count": 7,
     "metadata": {},
     "output_type": "execute_result"
    }
   ],
   "source": [
    "df.shape"
   ]
  },
  {
   "cell_type": "code",
   "execution_count": 8,
   "id": "58199cdf-fba4-41c1-b425-eb6d23cbd9de",
   "metadata": {},
   "outputs": [
    {
     "name": "stdout",
     "output_type": "stream",
     "text": [
      "<class 'pandas.core.frame.DataFrame'>\n",
      "RangeIndex: 200 entries, 0 to 199\n",
      "Data columns (total 2 columns):\n",
      " #   Column   Non-Null Count  Dtype  \n",
      "---  ------   --------------  -----  \n",
      " 0   cgpa     200 non-null    float64\n",
      " 1   package  200 non-null    float64\n",
      "dtypes: float64(2)\n",
      "memory usage: 3.2 KB\n"
     ]
    }
   ],
   "source": [
    "df.info()"
   ]
  },
  {
   "cell_type": "code",
   "execution_count": 9,
   "id": "1b28f0b1-a031-47aa-9ae5-fb6cbc61f418",
   "metadata": {},
   "outputs": [],
   "source": [
    "# Split into features (X) and target (y)\n",
    "X = df.iloc[:, 0].values  # CGPA\n",
    "y = df.iloc[:, 1].values  # Package"
   ]
  },
  {
   "cell_type": "code",
   "execution_count": 10,
   "id": "da46e07f-62e0-48a9-9e86-98ca6b1099c8",
   "metadata": {},
   "outputs": [
    {
     "name": "stdout",
     "output_type": "stream",
     "text": [
      "Requirement already satisfied: sklearn in c:\\users\\hp\\.pyenv\\pyenv-win\\versions\\3.8.10\\lib\\site-packages (0.0)\n",
      "Requirement already satisfied: scikit-learn in c:\\users\\hp\\.pyenv\\pyenv-win\\versions\\3.8.10\\lib\\site-packages (from sklearn) (1.3.2)\n",
      "Requirement already satisfied: threadpoolctl>=2.0.0 in c:\\users\\hp\\.pyenv\\pyenv-win\\versions\\3.8.10\\lib\\site-packages (from scikit-learn->sklearn) (3.5.0)\n",
      "Requirement already satisfied: scipy>=1.5.0 in c:\\users\\hp\\.pyenv\\pyenv-win\\versions\\3.8.10\\lib\\site-packages (from scikit-learn->sklearn) (1.10.1)\n",
      "Requirement already satisfied: numpy<2.0,>=1.17.3 in c:\\users\\hp\\.pyenv\\pyenv-win\\versions\\3.8.10\\lib\\site-packages (from scikit-learn->sklearn) (1.24.4)\n",
      "Requirement already satisfied: joblib>=1.1.1 in c:\\users\\hp\\.pyenv\\pyenv-win\\versions\\3.8.10\\lib\\site-packages (from scikit-learn->sklearn) (1.4.2)\n"
     ]
    },
    {
     "name": "stderr",
     "output_type": "stream",
     "text": [
      "WARNING: You are using pip version 21.1.1; however, version 25.0.1 is available.\n",
      "You should consider upgrading via the 'c:\\users\\hp\\.pyenv\\pyenv-win\\versions\\3.8.10\\python.exe -m pip install --upgrade pip' command.\n"
     ]
    }
   ],
   "source": [
    "!pip install sklearn"
   ]
  },
  {
   "cell_type": "code",
   "execution_count": 11,
   "id": "469cca26-9b22-4cd1-b4f3-9bed113a371b",
   "metadata": {},
   "outputs": [],
   "source": [
    "from sklearn.model_selection import train_test_split"
   ]
  },
  {
   "cell_type": "code",
   "execution_count": 12,
   "id": "3872080b-dfbe-4e64-b821-233d6260b0c4",
   "metadata": {},
   "outputs": [],
   "source": [
    "# Split into training and testing sets\n",
    "X_train, X_test, y_train, y_test = train_test_split(X, y, test_size=0.2, random_state=18)"
   ]
  },
  {
   "cell_type": "code",
   "execution_count": 13,
   "id": "84dd8e69-830d-40ec-9a9f-9b75cc8635a0",
   "metadata": {},
   "outputs": [
    {
     "data": {
      "text/plain": [
       "(160,)"
      ]
     },
     "execution_count": 13,
     "metadata": {},
     "output_type": "execute_result"
    }
   ],
   "source": [
    "X_train.shape"
   ]
  },
  {
   "cell_type": "code",
   "execution_count": 14,
   "id": "bb23f314-f3da-4f93-a537-4bde2d8f17ff",
   "metadata": {},
   "outputs": [
    {
     "data": {
      "text/plain": [
       "(160,)"
      ]
     },
     "execution_count": 14,
     "metadata": {},
     "output_type": "execute_result"
    }
   ],
   "source": [
    "y_train.shape"
   ]
  },
  {
   "cell_type": "code",
   "execution_count": 15,
   "id": "d7cb057c-dbfa-4663-bc37-25ca64d5d4b4",
   "metadata": {},
   "outputs": [
    {
     "data": {
      "text/plain": [
       "(40,)"
      ]
     },
     "execution_count": 15,
     "metadata": {},
     "output_type": "execute_result"
    }
   ],
   "source": [
    "X_test.shape"
   ]
  },
  {
   "cell_type": "code",
   "execution_count": 16,
   "id": "882c2674-d485-43b5-b54c-cf2adc018ba4",
   "metadata": {},
   "outputs": [
    {
     "data": {
      "text/plain": [
       "(40,)"
      ]
     },
     "execution_count": 16,
     "metadata": {},
     "output_type": "execute_result"
    }
   ],
   "source": [
    "y_test.shape"
   ]
  },
  {
   "cell_type": "code",
   "execution_count": 17,
   "id": "7aaab7e0-5f66-4eef-a27c-f5254e074283",
   "metadata": {},
   "outputs": [],
   "source": [
    "# Initialize and train the model\n",
    "lr = MyLinearRegressor()"
   ]
  },
  {
   "cell_type": "code",
   "execution_count": 18,
   "id": "8c4612a8-59da-495a-b396-3ef6ea34ee6e",
   "metadata": {},
   "outputs": [
    {
     "name": "stdout",
     "output_type": "stream",
     "text": [
      "Slope is:  0.5868864004093516\n",
      "Intercept is:  -1.1183445380587584\n"
     ]
    }
   ],
   "source": [
    "lr.fit(X_train, y_train)"
   ]
  },
  {
   "cell_type": "code",
   "execution_count": 19,
   "id": "366caca4-9192-4b3d-b47d-ee186d951f75",
   "metadata": {},
   "outputs": [],
   "source": [
    "# Make predictions\n",
    "y_pred = lr.predict(X_test)"
   ]
  },
  {
   "cell_type": "code",
   "execution_count": 20,
   "id": "1c06b726-5613-408c-81a7-daf2e2445bdf",
   "metadata": {},
   "outputs": [
    {
     "data": {
      "text/plain": [
       "array([3.10723754, 2.53208887, 2.4616625 , 3.43589393, 2.53208887,\n",
       "       3.24222142, 2.47340023, 2.30907204, 1.86890724, 3.48284484,\n",
       "       4.3866499 , 2.9018273 , 2.83140094, 3.15418846, 2.6083841 ,\n",
       "       3.53566462, 4.12841988, 3.44176279, 4.08733783, 1.65762814,\n",
       "       3.26569687, 3.16005732, 3.9464851 , 2.95464708, 2.92530276,\n",
       "       3.75868145, 1.56372631, 2.97812254, 2.0391043 , 1.88651383,\n",
       "       2.71402366, 2.12713726, 2.95464708, 3.74107486, 2.94290935,\n",
       "       3.5063203 , 3.69412395, 2.80205662, 3.6530419 , 3.22461482])"
      ]
     },
     "execution_count": 20,
     "metadata": {},
     "output_type": "execute_result"
    }
   ],
   "source": [
    "y_pred"
   ]
  },
  {
   "cell_type": "code",
   "execution_count": 21,
   "id": "9834942e-3d2e-4605-a61e-ec3452915a10",
   "metadata": {},
   "outputs": [
    {
     "data": {
      "text/plain": [
       "array([2.83, 2.14, 2.2 , 3.54, 2.87, 3.33, 2.76, 3.26, 1.86, 3.47, 4.02,\n",
       "       3.44, 2.6 , 3.65, 2.73, 3.34, 3.65, 4.06, 4.62, 1.48, 3.34, 3.12,\n",
       "       4.09, 3.57, 3.26, 3.51, 1.94, 3.09, 2.09, 2.01, 2.71, 2.55, 2.98,\n",
       "       3.67, 3.09, 3.14, 3.39, 2.49, 3.6 , 2.88])"
      ]
     },
     "execution_count": 21,
     "metadata": {},
     "output_type": "execute_result"
    }
   ],
   "source": [
    "y_test"
   ]
  },
  {
   "cell_type": "code",
   "execution_count": 22,
   "id": "16c94d4e-7b7b-45f6-8d3e-62c96e8870b4",
   "metadata": {},
   "outputs": [
    {
     "name": "stdout",
     "output_type": "stream",
     "text": [
      "Requirement already satisfied: matplotlib in c:\\users\\hp\\.pyenv\\pyenv-win\\versions\\3.8.10\\lib\\site-packages (3.7.5)\n",
      "Requirement already satisfied: seaborn in c:\\users\\hp\\.pyenv\\pyenv-win\\versions\\3.8.10\\lib\\site-packages (0.13.2)\n",
      "Requirement already satisfied: pyparsing>=2.3.1 in c:\\users\\hp\\.pyenv\\pyenv-win\\versions\\3.8.10\\lib\\site-packages (from matplotlib) (3.1.4)\n",
      "Requirement already satisfied: fonttools>=4.22.0 in c:\\users\\hp\\.pyenv\\pyenv-win\\versions\\3.8.10\\lib\\site-packages (from matplotlib) (4.57.0)\n",
      "Requirement already satisfied: packaging>=20.0 in c:\\users\\hp\\.pyenv\\pyenv-win\\versions\\3.8.10\\lib\\site-packages (from matplotlib) (24.2)\n",
      "Requirement already satisfied: cycler>=0.10 in c:\\users\\hp\\.pyenv\\pyenv-win\\versions\\3.8.10\\lib\\site-packages (from matplotlib) (0.12.1)\n",
      "Requirement already satisfied: contourpy>=1.0.1 in c:\\users\\hp\\.pyenv\\pyenv-win\\versions\\3.8.10\\lib\\site-packages (from matplotlib) (1.1.1)\n",
      "Requirement already satisfied: importlib-resources>=3.2.0 in c:\\users\\hp\\.pyenv\\pyenv-win\\versions\\3.8.10\\lib\\site-packages (from matplotlib) (6.4.5)\n",
      "Requirement already satisfied: python-dateutil>=2.7 in c:\\users\\hp\\.pyenv\\pyenv-win\\versions\\3.8.10\\lib\\site-packages (from matplotlib) (2.9.0.post0)\n",
      "Requirement already satisfied: kiwisolver>=1.0.1 in c:\\users\\hp\\.pyenv\\pyenv-win\\versions\\3.8.10\\lib\\site-packages (from matplotlib) (1.4.7)\n",
      "Requirement already satisfied: pillow>=6.2.0 in c:\\users\\hp\\.pyenv\\pyenv-win\\versions\\3.8.10\\lib\\site-packages (from matplotlib) (10.4.0)\n",
      "Requirement already satisfied: numpy<2,>=1.20 in c:\\users\\hp\\.pyenv\\pyenv-win\\versions\\3.8.10\\lib\\site-packages (from matplotlib) (1.24.4)\n",
      "Requirement already satisfied: zipp>=3.1.0 in c:\\users\\hp\\.pyenv\\pyenv-win\\versions\\3.8.10\\lib\\site-packages (from importlib-resources>=3.2.0->matplotlib) (3.20.2)\n",
      "Requirement already satisfied: six>=1.5 in c:\\users\\hp\\.pyenv\\pyenv-win\\versions\\3.8.10\\lib\\site-packages (from python-dateutil>=2.7->matplotlib) (1.17.0)\n",
      "Requirement already satisfied: pandas>=1.2 in c:\\users\\hp\\.pyenv\\pyenv-win\\versions\\3.8.10\\lib\\site-packages (from seaborn) (2.0.3)\n",
      "Requirement already satisfied: pytz>=2020.1 in c:\\users\\hp\\.pyenv\\pyenv-win\\versions\\3.8.10\\lib\\site-packages (from pandas>=1.2->seaborn) (2025.2)\n",
      "Requirement already satisfied: tzdata>=2022.1 in c:\\users\\hp\\.pyenv\\pyenv-win\\versions\\3.8.10\\lib\\site-packages (from pandas>=1.2->seaborn) (2025.2)\n"
     ]
    },
    {
     "name": "stderr",
     "output_type": "stream",
     "text": [
      "WARNING: You are using pip version 21.1.1; however, version 25.0.1 is available.\n",
      "You should consider upgrading via the 'c:\\users\\hp\\.pyenv\\pyenv-win\\versions\\3.8.10\\python.exe -m pip install --upgrade pip' command.\n"
     ]
    }
   ],
   "source": [
    "!pip install matplotlib seaborn"
   ]
  },
  {
   "cell_type": "markdown",
   "id": "f3f1ff67-33e1-404d-a865-68c541fc0541",
   "metadata": {},
   "source": [
    "## Visualizing the Results"
   ]
  },
  {
   "cell_type": "markdown",
   "id": "5a13d759-214a-482d-bccc-001ed0270c5a",
   "metadata": {},
   "source": [
    "#### To evaluate the model, I plot the actual vs. predicted values. A perfect model would lie on the red dashed line (y = x)."
   ]
  },
  {
   "cell_type": "code",
   "execution_count": 23,
   "id": "92aabdb1-1f82-41c1-acf2-8e191372f373",
   "metadata": {},
   "outputs": [],
   "source": [
    "import matplotlib.pyplot as plt\n",
    "import seaborn as sns"
   ]
  },
  {
   "cell_type": "code",
   "execution_count": 24,
   "id": "f81cbcbd-a8cb-4b52-a8d2-8fc2a5e3ca84",
   "metadata": {},
   "outputs": [
    {
     "data": {
      "image/png": "[encoded data removed]",
      "text/plain": [
       "<Figure size 800x600 with 1 Axes>"
      ]
     },
     "metadata": {},
     "output_type": "display_data"
    }
   ],
   "source": [
    "plt.figure(figsize=(8,6))\n",
    "sns.scatterplot(x=y_test, y=y_pred, alpha=0.6)\n",
    "\n",
    "# Plot the ideal line (y = x)\n",
    "plt.plot([y_test.min(), y_test.max()], [y_test.min(), y_test.max()], 'r--', lw=2)\n",
    "\n",
    "plt.xlabel(\"Actual Values (y_test)\")\n",
    "plt.ylabel(\"Predicted Values (y_pred)\")\n",
    "plt.title(\"Actual vs Predicted Values\")\n",
    "plt.show()"
   ]
  },
  {
   "cell_type": "markdown",
   "id": "4fb35b8b-3d02-4923-99d0-d547d181fb92",
   "metadata": {},
   "source": [
    "## Conclusion"
   ]
  },
  {
   "cell_type": "markdown",
   "id": "99456654-333b-4527-a5f0-b53ab05163c9",
   "metadata": {},
   "source": [
    "#### In this project, I successfully implemented a simple linear regression model from scratch. This exercise helped me understand the underlying mathematics of linear regression and how least squares works to minimize the error."
   ]
  }
 ],
 "metadata": {
  "kernelspec": {
   "display_name": "Python 3 (ipykernel)",
   "language": "python",
   "name": "python3"
  },
  "language_info": {
   "codemirror_mode": {
    "name": "ipython",
    "version": 3
   },
   "file_extension": ".py",
   "mimetype": "text/x-python",
   "name": "python",
   "nbconvert_exporter": "python",
   "pygments_lexer": "ipython3",
   "version": "3.8.10"
  }
 },
 "nbformat": 4,
 "nbformat_minor": 5
}
