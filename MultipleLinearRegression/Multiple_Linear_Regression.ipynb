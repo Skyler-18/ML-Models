{
 "cells": [
  {
   "cell_type": "markdown",
   "id": "29323d7f-5d6b-4de4-b5e7-160d5f6a3c44",
   "metadata": {},
   "source": [
    "# **MULTIPLE LINEAR REGRESSION**"
   ]
  },
  {
   "cell_type": "code",
   "execution_count": null,
   "id": "6ac87f2c-0ede-4b2c-8926-216f59ff42f1",
   "metadata": {},
   "outputs": [],
   "source": [
    "!pip install sklearn numpy matplotlib"
   ]
  },
  {
   "cell_type": "markdown",
   "id": "25a35264-a3db-44a8-b95f-32d79d95c76f",
   "metadata": {},
   "source": [
    "## Loading the Dataset"
   ]
  },
  {
   "cell_type": "markdown",
   "id": "85ecd568-c5cc-4eea-a7d0-edf1d6a40bd5",
   "metadata": {},
   "source": [
    "#### We load the diabetes dataset, which contains features (X) and target values (y)."
   ]
  },
  {
   "cell_type": "code",
   "execution_count": 53,
   "id": "7f5447e2-a6bb-4ded-ac7a-9c937830de89",
   "metadata": {},
   "outputs": [],
   "source": [
    "from sklearn.datasets import load_diabetes"
   ]
  },
  {
   "cell_type": "code",
   "execution_count": 54,
   "id": "dc2a754f-546c-4ebf-a892-4894b0cb7c40",
   "metadata": {},
   "outputs": [],
   "source": [
    "X,y = load_diabetes(return_X_y=True)"
   ]
  },
  {
   "cell_type": "markdown",
   "id": "c93c0134-e4b9-4102-8dbe-c1888b4b86da",
   "metadata": {},
   "source": [
    "## Exploring the Dataset"
   ]
  },
  {
   "cell_type": "markdown",
   "id": "8149eb15-cbd4-4eac-812c-eb257fc065a3",
   "metadata": {},
   "source": [
    "#### Let's examine the shapes of the feature matrix X and the target vector y to understand the dataset dimensions."
   ]
  },
  {
   "cell_type": "code",
   "execution_count": 55,
   "id": "4457ed61-3699-4c88-a5c1-c922337ccb7f",
   "metadata": {},
   "outputs": [
    {
     "data": {
      "text/plain": [
       "(442, 10)"
      ]
     },
     "execution_count": 55,
     "metadata": {},
     "output_type": "execute_result"
    }
   ],
   "source": [
    "X.shape"
   ]
  },
  {
   "cell_type": "code",
   "execution_count": 56,
   "id": "02bfd4cd-1816-44a9-9053-ecce6b38adc7",
   "metadata": {},
   "outputs": [
    {
     "data": {
      "text/plain": [
       "(442,)"
      ]
     },
     "execution_count": 56,
     "metadata": {},
     "output_type": "execute_result"
    }
   ],
   "source": [
    "y.shape"
   ]
  },
  {
   "cell_type": "code",
   "execution_count": 57,
   "id": "ec756632-60b1-4471-859a-d8d0bdd4752c",
   "metadata": {},
   "outputs": [
    {
     "data": {
      "text/plain": [
       "array([[ 0.03807591,  0.05068012,  0.06169621, ..., -0.00259226,\n",
       "         0.01990749, -0.01764613],\n",
       "       [-0.00188202, -0.04464164, -0.05147406, ..., -0.03949338,\n",
       "        -0.06833155, -0.09220405],\n",
       "       [ 0.08529891,  0.05068012,  0.04445121, ..., -0.00259226,\n",
       "         0.00286131, -0.02593034],\n",
       "       ...,\n",
       "       [ 0.04170844,  0.05068012, -0.01590626, ..., -0.01107952,\n",
       "        -0.04688253,  0.01549073],\n",
       "       [-0.04547248, -0.04464164,  0.03906215, ...,  0.02655962,\n",
       "         0.04452873, -0.02593034],\n",
       "       [-0.04547248, -0.04464164, -0.0730303 , ..., -0.03949338,\n",
       "        -0.00422151,  0.00306441]])"
      ]
     },
     "execution_count": 57,
     "metadata": {},
     "output_type": "execute_result"
    }
   ],
   "source": [
    "X"
   ]
  },
  {
   "cell_type": "code",
   "execution_count": 58,
   "id": "5d3575f3-db2d-4e79-84c9-6775c5ccd4b2",
   "metadata": {},
   "outputs": [
    {
     "data": {
      "text/plain": [
       "array([151.,  75., 141., 206., 135.,  97., 138.,  63., 110., 310., 101.,\n",
       "        69., 179., 185., 118., 171., 166., 144.,  97., 168.,  68.,  49.,\n",
       "        68., 245., 184., 202., 137.,  85., 131., 283., 129.,  59., 341.,\n",
       "        87.,  65., 102., 265., 276., 252.,  90., 100.,  55.,  61.,  92.,\n",
       "       259.,  53., 190., 142.,  75., 142., 155., 225.,  59., 104., 182.,\n",
       "       128.,  52.,  37., 170., 170.,  61., 144.,  52., 128.,  71., 163.,\n",
       "       150.,  97., 160., 178.,  48., 270., 202., 111.,  85.,  42., 170.,\n",
       "       200., 252., 113., 143.,  51.,  52., 210.,  65., 141.,  55., 134.,\n",
       "        42., 111.,  98., 164.,  48.,  96.,  90., 162., 150., 279.,  92.,\n",
       "        83., 128., 102., 302., 198.,  95.,  53., 134., 144., 232.,  81.,\n",
       "       104.,  59., 246., 297., 258., 229., 275., 281., 179., 200., 200.,\n",
       "       173., 180.,  84., 121., 161.,  99., 109., 115., 268., 274., 158.,\n",
       "       107.,  83., 103., 272.,  85., 280., 336., 281., 118., 317., 235.,\n",
       "        60., 174., 259., 178., 128.,  96., 126., 288.,  88., 292.,  71.,\n",
       "       197., 186.,  25.,  84.,  96., 195.,  53., 217., 172., 131., 214.,\n",
       "        59.,  70., 220., 268., 152.,  47.,  74., 295., 101., 151., 127.,\n",
       "       237., 225.,  81., 151., 107.,  64., 138., 185., 265., 101., 137.,\n",
       "       143., 141.,  79., 292., 178.,  91., 116.,  86., 122.,  72., 129.,\n",
       "       142.,  90., 158.,  39., 196., 222., 277.,  99., 196., 202., 155.,\n",
       "        77., 191.,  70.,  73.,  49.,  65., 263., 248., 296., 214., 185.,\n",
       "        78.,  93., 252., 150.,  77., 208.,  77., 108., 160.,  53., 220.,\n",
       "       154., 259.,  90., 246., 124.,  67.,  72., 257., 262., 275., 177.,\n",
       "        71.,  47., 187., 125.,  78.,  51., 258., 215., 303., 243.,  91.,\n",
       "       150., 310., 153., 346.,  63.,  89.,  50.,  39., 103., 308., 116.,\n",
       "       145.,  74.,  45., 115., 264.,  87., 202., 127., 182., 241.,  66.,\n",
       "        94., 283.,  64., 102., 200., 265.,  94., 230., 181., 156., 233.,\n",
       "        60., 219.,  80.,  68., 332., 248.,  84., 200.,  55.,  85.,  89.,\n",
       "        31., 129.,  83., 275.,  65., 198., 236., 253., 124.,  44., 172.,\n",
       "       114., 142., 109., 180., 144., 163., 147.,  97., 220., 190., 109.,\n",
       "       191., 122., 230., 242., 248., 249., 192., 131., 237.,  78., 135.,\n",
       "       244., 199., 270., 164.,  72.,  96., 306.,  91., 214.,  95., 216.,\n",
       "       263., 178., 113., 200., 139., 139.,  88., 148.,  88., 243.,  71.,\n",
       "        77., 109., 272.,  60.,  54., 221.,  90., 311., 281., 182., 321.,\n",
       "        58., 262., 206., 233., 242., 123., 167.,  63., 197.,  71., 168.,\n",
       "       140., 217., 121., 235., 245.,  40.,  52., 104., 132.,  88.,  69.,\n",
       "       219.,  72., 201., 110.,  51., 277.,  63., 118.,  69., 273., 258.,\n",
       "        43., 198., 242., 232., 175.,  93., 168., 275., 293., 281.,  72.,\n",
       "       140., 189., 181., 209., 136., 261., 113., 131., 174., 257.,  55.,\n",
       "        84.,  42., 146., 212., 233.,  91., 111., 152., 120.,  67., 310.,\n",
       "        94., 183.,  66., 173.,  72.,  49.,  64.,  48., 178., 104., 132.,\n",
       "       220.,  57.])"
      ]
     },
     "execution_count": 58,
     "metadata": {},
     "output_type": "execute_result"
    }
   ],
   "source": [
    "y"
   ]
  },
  {
   "cell_type": "markdown",
   "id": "8efe6246-a8fb-49d7-9da1-6f5200888d2e",
   "metadata": {},
   "source": [
    "## Splitting the Data into Training and Testing Sets"
   ]
  },
  {
   "cell_type": "markdown",
   "id": "2194dd47-8293-4c40-9e45-3b13ea09679d",
   "metadata": {},
   "source": [
    "#### We split the dataset into training (80%) and testing (20%) sets to evaluate our model's performance."
   ]
  },
  {
   "cell_type": "code",
   "execution_count": 59,
   "id": "fd3c141f-4f58-45d1-a160-ccd2dc85d928",
   "metadata": {},
   "outputs": [],
   "source": [
    "from sklearn.model_selection import train_test_split"
   ]
  },
  {
   "cell_type": "code",
   "execution_count": 60,
   "id": "41384673-0928-43fa-a447-03efe30f4716",
   "metadata": {},
   "outputs": [],
   "source": [
    "X_train, X_test, y_train, y_test = train_test_split(X, y, test_size=0.2, random_state=18)"
   ]
  },
  {
   "cell_type": "code",
   "execution_count": 61,
   "id": "3bfc60b9-6fd9-47c5-acaa-9c0b73c75c5a",
   "metadata": {},
   "outputs": [
    {
     "data": {
      "text/plain": [
       "(353, 10)"
      ]
     },
     "execution_count": 61,
     "metadata": {},
     "output_type": "execute_result"
    }
   ],
   "source": [
    "X_train.shape"
   ]
  },
  {
   "cell_type": "code",
   "execution_count": 62,
   "id": "5a457824-bf9c-4657-a48a-47150d7d06d0",
   "metadata": {},
   "outputs": [
    {
     "data": {
      "text/plain": [
       "(353,)"
      ]
     },
     "execution_count": 62,
     "metadata": {},
     "output_type": "execute_result"
    }
   ],
   "source": [
    "y_train.shape"
   ]
  },
  {
   "cell_type": "code",
   "execution_count": 63,
   "id": "4992535f-67bd-4ff9-8b83-b34b19e19e36",
   "metadata": {},
   "outputs": [
    {
     "data": {
      "text/plain": [
       "(89, 10)"
      ]
     },
     "execution_count": 63,
     "metadata": {},
     "output_type": "execute_result"
    }
   ],
   "source": [
    "X_test.shape"
   ]
  },
  {
   "cell_type": "code",
   "execution_count": 64,
   "id": "28e4e86e-0262-4d8f-bd31-38a265f46d20",
   "metadata": {},
   "outputs": [
    {
     "data": {
      "text/plain": [
       "(89,)"
      ]
     },
     "execution_count": 64,
     "metadata": {},
     "output_type": "execute_result"
    }
   ],
   "source": [
    "y_test.shape"
   ]
  },
  {
   "cell_type": "markdown",
   "id": "9f174c15-87a2-4cd3-b3d4-23132094d291",
   "metadata": {},
   "source": [
    "## Implementing Linear Regression with Scikit-Learn"
   ]
  },
  {
   "cell_type": "markdown",
   "id": "5a3d9f31-793b-4ec6-b7df-8475afed653b",
   "metadata": {},
   "source": [
    "#### We use scikit-learn's LinearRegression to train a model and make predictions."
   ]
  },
  {
   "cell_type": "code",
   "execution_count": 65,
   "id": "47122f27-6d38-4739-a327-064b8e121416",
   "metadata": {},
   "outputs": [],
   "source": [
    "from sklearn.linear_model import LinearRegression"
   ]
  },
  {
   "cell_type": "code",
   "execution_count": 66,
   "id": "f02d280d-91d0-4b6f-a78d-8ba540ea7b50",
   "metadata": {},
   "outputs": [],
   "source": [
    "lr = LinearRegression()  # Initialize the model"
   ]
  },
  {
   "cell_type": "code",
   "execution_count": 67,
   "id": "360fb589-bc41-4e59-81f7-258f876c731e",
   "metadata": {},
   "outputs": [
    {
     "data": {
      "text/html": [
       "<style>#sk-container-id-2 {color: black;}#sk-container-id-2 pre{padding: 0;}#sk-container-id-2 div.sk-toggleable {background-color: white;}#sk-container-id-2 label.sk-toggleable__label {cursor: pointer;display: block;width: 100%;margin-bottom: 0;padding: 0.3em;box-sizing: border-box;text-align: center;}#sk-container-id-2 label.sk-toggleable__label-arrow:before {content: \"▸\";float: left;margin-right: 0.25em;color: #696969;}#sk-container-id-2 label.sk-toggleable__label-arrow:hover:before {color: black;}#sk-container-id-2 div.sk-estimator:hover label.sk-toggleable__label-arrow:before {color: black;}#sk-container-id-2 div.sk-toggleable__content {max-height: 0;max-width: 0;overflow: hidden;text-align: left;background-color: #f0f8ff;}#sk-container-id-2 div.sk-toggleable__content pre {margin: 0.2em;color: black;border-radius: 0.25em;background-color: #f0f8ff;}#sk-container-id-2 input.sk-toggleable__control:checked~div.sk-toggleable__content {max-height: 200px;max-width: 100%;overflow: auto;}#sk-container-id-2 input.sk-toggleable__control:checked~label.sk-toggleable__label-arrow:before {content: \"▾\";}#sk-container-id-2 div.sk-estimator input.sk-toggleable__control:checked~label.sk-toggleable__label {background-color: #d4ebff;}#sk-container-id-2 div.sk-label input.sk-toggleable__control:checked~label.sk-toggleable__label {background-color: #d4ebff;}#sk-container-id-2 input.sk-hidden--visually {border: 0;clip: rect(1px 1px 1px 1px);clip: rect(1px, 1px, 1px, 1px);height: 1px;margin: -1px;overflow: hidden;padding: 0;position: absolute;width: 1px;}#sk-container-id-2 div.sk-estimator {font-family: monospace;background-color: #f0f8ff;border: 1px dotted black;border-radius: 0.25em;box-sizing: border-box;margin-bottom: 0.5em;}#sk-container-id-2 div.sk-estimator:hover {background-color: #d4ebff;}#sk-container-id-2 div.sk-parallel-item::after {content: \"\";width: 100%;border-bottom: 1px solid gray;flex-grow: 1;}#sk-container-id-2 div.sk-label:hover label.sk-toggleable__label {background-color: #d4ebff;}#sk-container-id-2 div.sk-serial::before {content: \"\";position: absolute;border-left: 1px solid gray;box-sizing: border-box;top: 0;bottom: 0;left: 50%;z-index: 0;}#sk-container-id-2 div.sk-serial {display: flex;flex-direction: column;align-items: center;background-color: white;padding-right: 0.2em;padding-left: 0.2em;position: relative;}#sk-container-id-2 div.sk-item {position: relative;z-index: 1;}#sk-container-id-2 div.sk-parallel {display: flex;align-items: stretch;justify-content: center;background-color: white;position: relative;}#sk-container-id-2 div.sk-item::before, #sk-container-id-2 div.sk-parallel-item::before {content: \"\";position: absolute;border-left: 1px solid gray;box-sizing: border-box;top: 0;bottom: 0;left: 50%;z-index: -1;}#sk-container-id-2 div.sk-parallel-item {display: flex;flex-direction: column;z-index: 1;position: relative;background-color: white;}#sk-container-id-2 div.sk-parallel-item:first-child::after {align-self: flex-end;width: 50%;}#sk-container-id-2 div.sk-parallel-item:last-child::after {align-self: flex-start;width: 50%;}#sk-container-id-2 div.sk-parallel-item:only-child::after {width: 0;}#sk-container-id-2 div.sk-dashed-wrapped {border: 1px dashed gray;margin: 0 0.4em 0.5em 0.4em;box-sizing: border-box;padding-bottom: 0.4em;background-color: white;}#sk-container-id-2 div.sk-label label {font-family: monospace;font-weight: bold;display: inline-block;line-height: 1.2em;}#sk-container-id-2 div.sk-label-container {text-align: center;}#sk-container-id-2 div.sk-container {/* jupyter's `normalize.less` sets `[hidden] { display: none; }` but bootstrap.min.css set `[hidden] { display: none !important; }` so we also need the `!important` here to be able to override the default hidden behavior on the sphinx rendered scikit-learn.org. See: https://github.com/scikit-learn/scikit-learn/issues/21755 */display: inline-block !important;position: relative;}#sk-container-id-2 div.sk-text-repr-fallback {display: none;}</style><div id=\"sk-container-id-2\" class=\"sk-top-container\"><div class=\"sk-text-repr-fallback\"><pre>LinearRegression()</pre><b>In a Jupyter environment, please rerun this cell to show the HTML representation or trust the notebook. <br />On GitHub, the HTML representation is unable to render, please try loading this page with nbviewer.org.</b></div><div class=\"sk-container\" hidden><div class=\"sk-item\"><div class=\"sk-estimator sk-toggleable\"><input class=\"sk-toggleable__control sk-hidden--visually\" id=\"sk-estimator-id-2\" type=\"checkbox\" checked><label for=\"sk-estimator-id-2\" class=\"sk-toggleable__label sk-toggleable__label-arrow\">LinearRegression</label><div class=\"sk-toggleable__content\"><pre>LinearRegression()</pre></div></div></div></div></div>"
      ],
      "text/plain": [
       "LinearRegression()"
      ]
     },
     "execution_count": 67,
     "metadata": {},
     "output_type": "execute_result"
    }
   ],
   "source": [
    "lr.fit(X_train, y_train)  # Train the model on training data"
   ]
  },
  {
   "cell_type": "code",
   "execution_count": 68,
   "id": "dc927a82-9a21-4a6c-8483-246c49df9f94",
   "metadata": {},
   "outputs": [],
   "source": [
    "y_pred_skl = lr.predict(X_test)"
   ]
  },
  {
   "cell_type": "code",
   "execution_count": 69,
   "id": "1e6b1471-1b69-405f-b212-4d0a446b6a4c",
   "metadata": {},
   "outputs": [
    {
     "data": {
      "text/plain": [
       "array([257.40444174, 117.36695758, 153.91673919, 226.59035258,\n",
       "       166.02226082, 174.98735963, 250.19022011, 229.9940191 ,\n",
       "        73.73506771,  86.27985884, 158.50605293, 197.80377363,\n",
       "       124.86176163,  71.8330746 , 142.2646997 , 119.43847311,\n",
       "       100.25027951, 175.84749018, 129.73260996, 221.69770047,\n",
       "       156.27027376,  96.19839502, 107.85398876, 116.52507841,\n",
       "       242.44325085, 151.09321799, 133.91070783, 137.93381477,\n",
       "       101.12557159, 174.80485761, 180.96439539, 217.23406173,\n",
       "       178.75882147, 150.68587693, 214.34012728, 253.04701653,\n",
       "       109.37444352, 169.15121639, 126.6148005 , 220.96060704,\n",
       "       199.5994889 , 144.06484315, 103.6729476 , 193.64648461,\n",
       "       168.28680202, 199.78859545, 257.2472805 , 139.16204245,\n",
       "        87.58751076, 192.62804269,  56.78714063, 195.60322526,\n",
       "       212.99608705, 159.3958174 ,  81.60162651, 170.11941658,\n",
       "       164.85554248, 153.93388515, 231.0824024 , 178.24466051,\n",
       "       247.64645197, 107.14056864,  56.33691206, 131.03518229,\n",
       "       188.48927012, 190.28305864, 154.12101113, 113.25060024,\n",
       "       230.29788959, 148.20201723, 140.04594629, 120.51195233,\n",
       "       199.77931051, 165.21318224,  57.58030851, 185.67329542,\n",
       "       173.50409577,  82.70003078, 207.31940961, 232.81295777,\n",
       "       195.72109867, 147.56227483, 190.21760646, 167.6173431 ,\n",
       "       150.19793216, 163.37300945,  61.17563923, 175.72241966,\n",
       "       164.95117526])"
      ]
     },
     "execution_count": 69,
     "metadata": {},
     "output_type": "execute_result"
    }
   ],
   "source": [
    "y_pred_skl  # Display the predicted values"
   ]
  },
  {
   "cell_type": "code",
   "execution_count": 70,
   "id": "1d987bbc-68af-4e65-9f25-cf6239deaa89",
   "metadata": {},
   "outputs": [
    {
     "data": {
      "text/plain": [
       "array([308., 150.,  85., 237., 198., 283., 273., 257., 138.,  53., 110.,\n",
       "       131., 178.,  75., 182., 160., 152.,  77.,  84., 121., 129.,  65.,\n",
       "        72.,  96., 252., 109., 103., 103.,  64., 220.,  66., 279.,  70.,\n",
       "        50., 275., 306.,  87., 178.,  78., 332., 265., 202., 142., 164.,\n",
       "       225., 151., 346., 142., 181., 220.,  99., 233., 163., 118.,  51.,\n",
       "       111., 258.,  81., 259., 140., 264.,  94.,  63., 187., 229., 232.,\n",
       "       197.,  88., 248.,  97.,  59.,  69., 122., 127.,  57.,  91., 120.,\n",
       "        92., 173., 236.,  84.,  55., 191., 206., 115., 100.,  39., 216.,\n",
       "       141.])"
      ]
     },
     "execution_count": 70,
     "metadata": {},
     "output_type": "execute_result"
    }
   ],
   "source": [
    "y_test  # Display the actual target values"
   ]
  },
  {
   "cell_type": "markdown",
   "id": "cd04a87b-0331-4dfe-84b4-ef7708962bf6",
   "metadata": {},
   "source": [
    "#### Extract and display the intercept and coefficients of the trained model."
   ]
  },
  {
   "cell_type": "code",
   "execution_count": 71,
   "id": "6c1fbd5e-442a-4db2-9635-f3206c85090d",
   "metadata": {},
   "outputs": [
    {
     "data": {
      "text/plain": [
       "153.32760069777532"
      ]
     },
     "execution_count": 71,
     "metadata": {},
     "output_type": "execute_result"
    }
   ],
   "source": [
    "lr.intercept_  # Output: Intercept of the regression line"
   ]
  },
  {
   "cell_type": "code",
   "execution_count": 72,
   "id": "9b57a319-30f1-4508-bc32-1b0755765bfa",
   "metadata": {},
   "outputs": [
    {
     "data": {
      "text/plain": [
       "array([  33.86613698, -273.44971856,  466.58017053,  337.65891227,\n",
       "       -806.35981263,  592.36046805,   92.48275413,  182.36792969,\n",
       "        697.41630107,   89.11282567])"
      ]
     },
     "execution_count": 72,
     "metadata": {},
     "output_type": "execute_result"
    }
   ],
   "source": [
    "lr.coef_       # Output: Coefficients for each feature"
   ]
  },
  {
   "cell_type": "markdown",
   "id": "28fa5653-3083-4c5d-a428-cdfcb2238f66",
   "metadata": {},
   "source": [
    "#### Calculate and display the R² score to evaluate the model's performance."
   ]
  },
  {
   "cell_type": "code",
   "execution_count": 73,
   "id": "3f5c5d04-5cad-459a-b6cd-a8b90b6dc61c",
   "metadata": {},
   "outputs": [],
   "source": [
    "from sklearn.metrics import r2_score"
   ]
  },
  {
   "cell_type": "code",
   "execution_count": 74,
   "id": "3eb442c1-7e38-4483-881d-17ba453ccc0a",
   "metadata": {},
   "outputs": [
    {
     "data": {
      "text/plain": [
       "0.49152545179667817"
      ]
     },
     "execution_count": 74,
     "metadata": {},
     "output_type": "execute_result"
    }
   ],
   "source": [
    "score_skl = r2_score(y_test, y_pred_skl)\n",
    "score_skl"
   ]
  },
  {
   "cell_type": "markdown",
   "id": "24c304c1-59f3-48de-a555-deab734988e3",
   "metadata": {},
   "source": [
    "## Implementing Custom Multiple Linear Regression"
   ]
  },
  {
   "cell_type": "markdown",
   "id": "8d5f9443-f1ca-4f3d-93c2-8b71977b0aa9",
   "metadata": {},
   "source": [
    "#### We define a custom MultipleLinearRegression class to implement linear regression from scratch using the normal equation."
   ]
  },
  {
   "cell_type": "code",
   "execution_count": 75,
   "id": "0d1513df-c99a-44e7-9503-60f57e449189",
   "metadata": {},
   "outputs": [],
   "source": [
    "import numpy as np"
   ]
  },
  {
   "cell_type": "code",
   "execution_count": 76,
   "id": "f77b5b13-2458-4ad1-aaaa-19cf3ed32745",
   "metadata": {},
   "outputs": [],
   "source": [
    "class MultipleLinearRegression:\n",
    "    def __init__(self):\n",
    "        self.coefficients = None  # To store the coefficients\n",
    "        self.intercept = None     # To store the intercept\n",
    "\n",
    "    def fit(self, X_train, y_train):\n",
    "        X_train = np.insert(X_train, 0, 1, axis=1)  # Add a column of 1s for the intercept\n",
    "        coeff_matrix = np.linalg.inv(np.dot(X_train.T, X_train)).dot(X_train.T).dot(y_train)  # Normal equation\n",
    "        self.intercept = coeff_matrix[0]  # First element is the intercept\n",
    "        self.coefficients = coeff_matrix[1:]  # Remaining elements are coefficients\n",
    "\n",
    "    def predict(self, X_test):\n",
    "        return np.dot(X_test, self.coefficients) + self.intercept  # Predict using the learned coefficients"
   ]
  },
  {
   "cell_type": "code",
   "execution_count": 77,
   "id": "5d27fc49-98b6-4a43-a1ac-9c3d7792a32d",
   "metadata": {},
   "outputs": [],
   "source": [
    "mlr = MultipleLinearRegression()"
   ]
  },
  {
   "cell_type": "code",
   "execution_count": 78,
   "id": "ca0b51d6-5021-48f4-ad85-fe2a9402981e",
   "metadata": {},
   "outputs": [],
   "source": [
    "mlr.fit(X_train, y_train)"
   ]
  },
  {
   "cell_type": "code",
   "execution_count": 79,
   "id": "8d380315-1792-4517-ad19-56b8b714fd5c",
   "metadata": {},
   "outputs": [],
   "source": [
    "y_pred_mlr = mlr.predict(X_test)"
   ]
  },
  {
   "cell_type": "code",
   "execution_count": 80,
   "id": "e92b4743-13b0-48a9-a387-95798e9ccdc1",
   "metadata": {},
   "outputs": [
    {
     "data": {
      "text/plain": [
       "array([257.40444174, 117.36695758, 153.91673919, 226.59035258,\n",
       "       166.02226082, 174.98735963, 250.19022011, 229.9940191 ,\n",
       "        73.73506771,  86.27985884, 158.50605293, 197.80377363,\n",
       "       124.86176163,  71.8330746 , 142.2646997 , 119.43847311,\n",
       "       100.25027951, 175.84749018, 129.73260996, 221.69770047,\n",
       "       156.27027376,  96.19839502, 107.85398876, 116.52507841,\n",
       "       242.44325085, 151.09321799, 133.91070783, 137.93381477,\n",
       "       101.12557159, 174.80485761, 180.96439539, 217.23406173,\n",
       "       178.75882147, 150.68587693, 214.34012728, 253.04701653,\n",
       "       109.37444352, 169.15121639, 126.6148005 , 220.96060704,\n",
       "       199.5994889 , 144.06484315, 103.6729476 , 193.64648461,\n",
       "       168.28680202, 199.78859545, 257.2472805 , 139.16204245,\n",
       "        87.58751076, 192.62804269,  56.78714063, 195.60322526,\n",
       "       212.99608705, 159.3958174 ,  81.60162651, 170.11941658,\n",
       "       164.85554248, 153.93388515, 231.0824024 , 178.24466051,\n",
       "       247.64645197, 107.14056864,  56.33691206, 131.03518229,\n",
       "       188.48927012, 190.28305864, 154.12101113, 113.25060024,\n",
       "       230.29788959, 148.20201723, 140.04594629, 120.51195233,\n",
       "       199.77931051, 165.21318224,  57.58030851, 185.67329542,\n",
       "       173.50409577,  82.70003078, 207.31940961, 232.81295777,\n",
       "       195.72109867, 147.56227483, 190.21760646, 167.6173431 ,\n",
       "       150.19793216, 163.37300945,  61.17563923, 175.72241966,\n",
       "       164.95117526])"
      ]
     },
     "execution_count": 80,
     "metadata": {},
     "output_type": "execute_result"
    }
   ],
   "source": [
    "y_pred_mlr  # Display the predicted values"
   ]
  },
  {
   "cell_type": "code",
   "execution_count": 81,
   "id": "631f7600-d45d-4b2c-aff0-30a6d8f40dea",
   "metadata": {},
   "outputs": [
    {
     "data": {
      "text/plain": [
       "array([308., 150.,  85., 237., 198., 283., 273., 257., 138.,  53., 110.,\n",
       "       131., 178.,  75., 182., 160., 152.,  77.,  84., 121., 129.,  65.,\n",
       "        72.,  96., 252., 109., 103., 103.,  64., 220.,  66., 279.,  70.,\n",
       "        50., 275., 306.,  87., 178.,  78., 332., 265., 202., 142., 164.,\n",
       "       225., 151., 346., 142., 181., 220.,  99., 233., 163., 118.,  51.,\n",
       "       111., 258.,  81., 259., 140., 264.,  94.,  63., 187., 229., 232.,\n",
       "       197.,  88., 248.,  97.,  59.,  69., 122., 127.,  57.,  91., 120.,\n",
       "        92., 173., 236.,  84.,  55., 191., 206., 115., 100.,  39., 216.,\n",
       "       141.])"
      ]
     },
     "execution_count": 81,
     "metadata": {},
     "output_type": "execute_result"
    }
   ],
   "source": [
    "y_test  # Display the actual target values"
   ]
  },
  {
   "cell_type": "markdown",
   "id": "036bc723-5328-40b7-8f2b-d51c590cbee4",
   "metadata": {},
   "source": [
    "#### Extract and display the intercept and coefficients of the custom model."
   ]
  },
  {
   "cell_type": "code",
   "execution_count": 82,
   "id": "84b8859a-5b6a-4ac5-b8dd-144d2d2bb7bf",
   "metadata": {},
   "outputs": [
    {
     "data": {
      "text/plain": [
       "153.3276006977753"
      ]
     },
     "execution_count": 82,
     "metadata": {},
     "output_type": "execute_result"
    }
   ],
   "source": [
    "mlr.intercept  # Output: Intercept of the regression line"
   ]
  },
  {
   "cell_type": "code",
   "execution_count": 83,
   "id": "3c1622a5-a09f-4f4e-be7d-ee467af23248",
   "metadata": {},
   "outputs": [
    {
     "data": {
      "text/plain": [
       "array([  33.86613698, -273.44971856,  466.58017053,  337.65891227,\n",
       "       -806.35981263,  592.36046805,   92.48275413,  182.36792969,\n",
       "        697.41630107,   89.11282567])"
      ]
     },
     "execution_count": 83,
     "metadata": {},
     "output_type": "execute_result"
    }
   ],
   "source": [
    "mlr.coefficients  # Output: Coefficients for each feature"
   ]
  },
  {
   "cell_type": "markdown",
   "id": "7c187e27-b3b5-4ab8-a026-efdd6e7e17c6",
   "metadata": {},
   "source": [
    "#### Calculate and display the R² score for the custom model."
   ]
  },
  {
   "cell_type": "code",
   "execution_count": 84,
   "id": "4a4e8895-e165-491e-a6d9-f68af39e755b",
   "metadata": {},
   "outputs": [
    {
     "data": {
      "text/plain": [
       "0.4915254517966805"
      ]
     },
     "execution_count": 84,
     "metadata": {},
     "output_type": "execute_result"
    }
   ],
   "source": [
    "score_mlr = r2_score(y_test, y_pred_mlr)\n",
    "score_mlr"
   ]
  },
  {
   "cell_type": "markdown",
   "id": "c40d6528-5eb9-44b9-8a60-189539d84a5b",
   "metadata": {},
   "source": [
    "## Visualizing the Results"
   ]
  },
  {
   "cell_type": "markdown",
   "id": "c2e99789-7dbf-4c90-a1a8-16617f14c302",
   "metadata": {},
   "source": [
    "#### We plot the actual vs. predicted values to visualize the model's performance."
   ]
  },
  {
   "cell_type": "code",
   "execution_count": 85,
   "id": "4d670261-d13d-47d5-8e9f-11bb0d06653d",
   "metadata": {},
   "outputs": [
    {
     "data": {
      "image/png": "[encoded data removed]",
      "text/plain": [
       "<Figure size 1000x600 with 1 Axes>"
      ]
     },
     "metadata": {},
     "output_type": "display_data"
    }
   ],
   "source": [
    "import matplotlib.pyplot as plt\n",
    "\n",
    "plt.figure(figsize=(10, 6))\n",
    "plt.scatter(y_test, y_pred_mlr, alpha=0.7)  # Scatter plot of actual vs. predicted\n",
    "plt.plot([min(y_test), max(y_test)], [min(y_test), max(y_test)], 'r--')  # Perfect fit line\n",
    "plt.xlabel(\"Actual Values\")\n",
    "plt.ylabel(\"Predicted Values\")\n",
    "plt.title(\"Actual vs. Predicted Values\")\n",
    "plt.show()"
   ]
  },
  {
   "cell_type": "markdown",
   "id": "7c12aecd-ee7c-4805-b722-93df80a1ff33",
   "metadata": {},
   "source": [
    "## Conclusion"
   ]
  },
  {
   "cell_type": "markdown",
   "id": "e1162992-39d8-43d8-bf80-0c4be9b3d02a",
   "metadata": {},
   "source": [
    "* **Identical Coefficients & Intercept**:\n",
    "    * Both models produced the same intercept (153.3276) and same coefficients (e.g., [33.866, -273.449, 466.580, ...]).\n",
    "    * This confirms that our custom implementation correctly applies the normal equation for linear regression.\n",
    "* **Similar R² Score**:\n",
    "    * Both models achieved an R² score of ~0.4915, meaning they explain about 49.15% of the variance in the target variable.\n",
    "    * This indicates that our custom model performs just as well as scikit-learn’s implementation on this dataset."
   ]
  }
 ],
 "metadata": {
  "kernelspec": {
   "display_name": "Python 3 (ipykernel)",
   "language": "python",
   "name": "python3"
  },
  "language_info": {
   "codemirror_mode": {
    "name": "ipython",
    "version": 3
   },
   "file_extension": ".py",
   "mimetype": "text/x-python",
   "name": "python",
   "nbconvert_exporter": "python",
   "pygments_lexer": "ipython3",
   "version": "3.8.10"
  }
 },
 "nbformat": 4,
 "nbformat_minor": 5
}
