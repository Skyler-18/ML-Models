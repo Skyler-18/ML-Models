{
 "cells": [
  {
   "cell_type": "markdown",
   "id": "7c4f830d-cba6-4ee6-8b72-54ba97c1480f",
   "metadata": {},
   "source": [
    "# **Ridge Regression (1D Data) From Scratch**"
   ]
  },
  {
   "cell_type": "markdown",
   "id": "b85a6cb3-50ee-4cba-b270-24c187544d09",
   "metadata": {},
   "source": [
    "## Overview"
   ]
  },
  {
   "cell_type": "markdown",
   "id": "0639af1e-cebb-42c7-9576-ed527012408f",
   "metadata": {},
   "source": [
    "### This notebook demonstrates Ridge Regression on a simple 1D dataset. Ridge Regression is a linear regression technique that includes L2 regularization to prevent overfitting by penalizing large coefficients."
   ]
  },
  {
   "cell_type": "code",
   "execution_count": 42,
   "id": "ec982f85-8be4-4226-aa89-4889633c2cbf",
   "metadata": {},
   "outputs": [],
   "source": [
    "from sklearn.datasets import make_regression\n",
    "import matplotlib.pyplot as plt\n",
    "import numpy as np"
   ]
  },
  {
   "cell_type": "markdown",
   "id": "ad3f93e4-3b45-4a9c-a138-750f2c3c623f",
   "metadata": {},
   "source": [
    "## Data Generation:"
   ]
  },
  {
   "cell_type": "markdown",
   "id": "38b59fbb-31fb-4231-acf4-cc537e1b3df4",
   "metadata": {},
   "source": [
    "### Synthetic 1D regression data is generated using `make_regression` from scikit-learn with added noise."
   ]
  },
  {
   "cell_type": "code",
   "execution_count": 43,
   "id": "a1e5f2fd-7669-41c4-9b30-9742af3cb65d",
   "metadata": {},
   "outputs": [],
   "source": [
    "X,y = make_regression(n_samples=100, n_features=1, n_informative=1, n_targets=1, noise=20, random_state=7)"
   ]
  },
  {
   "cell_type": "markdown",
   "id": "cf10668a-415c-46f7-ab5e-de4c278fa64e",
   "metadata": {},
   "source": [
    "## Data Visualization:"
   ]
  },
  {
   "cell_type": "markdown",
   "id": "54bc0f0d-7df3-4c01-b0a0-73017d44e2fd",
   "metadata": {},
   "source": [
    "### The data is plotted to visualize the relationship between the feature (`X`) and target (`y`)."
   ]
  },
  {
   "cell_type": "code",
   "execution_count": 44,
   "id": "80a51507-f52d-4b99-9a8e-ad2cc8938da3",
   "metadata": {},
   "outputs": [
    {
     "data": {
      "text/plain": [
       "<matplotlib.collections.PathCollection at 0x1f890e97a30>"
      ]
     },
     "execution_count": 44,
     "metadata": {},
     "output_type": "execute_result"
    },
    {
     "data": {
      "image/png": "[encoded data removed]",
      "text/plain": [
       "<Figure size 640x480 with 1 Axes>"
      ]
     },
     "metadata": {},
     "output_type": "display_data"
    }
   ],
   "source": [
    "plt.scatter(X,y)"
   ]
  },
  {
   "cell_type": "markdown",
   "id": "22181cb5-1bc6-4594-94cf-b69070b187f1",
   "metadata": {},
   "source": [
    "## Train-Test Split:"
   ]
  },
  {
   "cell_type": "markdown",
   "id": "b8e60739-bd6a-4cf1-a8e4-7a376af90ba3",
   "metadata": {},
   "source": [
    "### The dataset is split into training and testing sets using `train_test_split`."
   ]
  },
  {
   "cell_type": "code",
   "execution_count": 45,
   "id": "362e5d8b-029f-47d7-884a-1a05c41a0acc",
   "metadata": {},
   "outputs": [],
   "source": [
    "from sklearn.model_selection import train_test_split"
   ]
  },
  {
   "cell_type": "code",
   "execution_count": 46,
   "id": "8e65452a-1833-4464-b2e1-0169412d412b",
   "metadata": {},
   "outputs": [],
   "source": [
    "X_train, X_test, y_train, y_test = train_test_split(X, y, test_size=0.2, random_state=18)"
   ]
  },
  {
   "cell_type": "markdown",
   "id": "06f9fe63-c03e-4f0e-b55e-5e7a3410d330",
   "metadata": {},
   "source": [
    "## Linear Regression (Baseline):"
   ]
  },
  {
   "cell_type": "markdown",
   "id": "354b9870-8130-40be-ba10-0c38df3b3db2",
   "metadata": {},
   "source": [
    "* #### A standard linear regression model is trained to establish a baseline performance.\n",
    "* #### Coefficients and intercept are extracted, and predictions are made on the test set.\n",
    "* #### The R² score is computed to evaluate performance."
   ]
  },
  {
   "cell_type": "code",
   "execution_count": 47,
   "id": "5bbe2c46-8bb1-452d-b03a-7df8e027fc5b",
   "metadata": {},
   "outputs": [],
   "source": [
    "from sklearn.linear_model import LinearRegression"
   ]
  },
  {
   "cell_type": "code",
   "execution_count": 48,
   "id": "3a18ffff-6661-421d-939d-4982f5b75ed1",
   "metadata": {},
   "outputs": [
    {
     "data": {
      "text/html": [
       "<style>#sk-container-id-5 {color: black;}#sk-container-id-5 pre{padding: 0;}#sk-container-id-5 div.sk-toggleable {background-color: white;}#sk-container-id-5 label.sk-toggleable__label {cursor: pointer;display: block;width: 100%;margin-bottom: 0;padding: 0.3em;box-sizing: border-box;text-align: center;}#sk-container-id-5 label.sk-toggleable__label-arrow:before {content: \"▸\";float: left;margin-right: 0.25em;color: #696969;}#sk-container-id-5 label.sk-toggleable__label-arrow:hover:before {color: black;}#sk-container-id-5 div.sk-estimator:hover label.sk-toggleable__label-arrow:before {color: black;}#sk-container-id-5 div.sk-toggleable__content {max-height: 0;max-width: 0;overflow: hidden;text-align: left;background-color: #f0f8ff;}#sk-container-id-5 div.sk-toggleable__content pre {margin: 0.2em;color: black;border-radius: 0.25em;background-color: #f0f8ff;}#sk-container-id-5 input.sk-toggleable__control:checked~div.sk-toggleable__content {max-height: 200px;max-width: 100%;overflow: auto;}#sk-container-id-5 input.sk-toggleable__control:checked~label.sk-toggleable__label-arrow:before {content: \"▾\";}#sk-container-id-5 div.sk-estimator input.sk-toggleable__control:checked~label.sk-toggleable__label {background-color: #d4ebff;}#sk-container-id-5 div.sk-label input.sk-toggleable__control:checked~label.sk-toggleable__label {background-color: #d4ebff;}#sk-container-id-5 input.sk-hidden--visually {border: 0;clip: rect(1px 1px 1px 1px);clip: rect(1px, 1px, 1px, 1px);height: 1px;margin: -1px;overflow: hidden;padding: 0;position: absolute;width: 1px;}#sk-container-id-5 div.sk-estimator {font-family: monospace;background-color: #f0f8ff;border: 1px dotted black;border-radius: 0.25em;box-sizing: border-box;margin-bottom: 0.5em;}#sk-container-id-5 div.sk-estimator:hover {background-color: #d4ebff;}#sk-container-id-5 div.sk-parallel-item::after {content: \"\";width: 100%;border-bottom: 1px solid gray;flex-grow: 1;}#sk-container-id-5 div.sk-label:hover label.sk-toggleable__label {background-color: #d4ebff;}#sk-container-id-5 div.sk-serial::before {content: \"\";position: absolute;border-left: 1px solid gray;box-sizing: border-box;top: 0;bottom: 0;left: 50%;z-index: 0;}#sk-container-id-5 div.sk-serial {display: flex;flex-direction: column;align-items: center;background-color: white;padding-right: 0.2em;padding-left: 0.2em;position: relative;}#sk-container-id-5 div.sk-item {position: relative;z-index: 1;}#sk-container-id-5 div.sk-parallel {display: flex;align-items: stretch;justify-content: center;background-color: white;position: relative;}#sk-container-id-5 div.sk-item::before, #sk-container-id-5 div.sk-parallel-item::before {content: \"\";position: absolute;border-left: 1px solid gray;box-sizing: border-box;top: 0;bottom: 0;left: 50%;z-index: -1;}#sk-container-id-5 div.sk-parallel-item {display: flex;flex-direction: column;z-index: 1;position: relative;background-color: white;}#sk-container-id-5 div.sk-parallel-item:first-child::after {align-self: flex-end;width: 50%;}#sk-container-id-5 div.sk-parallel-item:last-child::after {align-self: flex-start;width: 50%;}#sk-container-id-5 div.sk-parallel-item:only-child::after {width: 0;}#sk-container-id-5 div.sk-dashed-wrapped {border: 1px dashed gray;margin: 0 0.4em 0.5em 0.4em;box-sizing: border-box;padding-bottom: 0.4em;background-color: white;}#sk-container-id-5 div.sk-label label {font-family: monospace;font-weight: bold;display: inline-block;line-height: 1.2em;}#sk-container-id-5 div.sk-label-container {text-align: center;}#sk-container-id-5 div.sk-container {/* jupyter's `normalize.less` sets `[hidden] { display: none; }` but bootstrap.min.css set `[hidden] { display: none !important; }` so we also need the `!important` here to be able to override the default hidden behavior on the sphinx rendered scikit-learn.org. See: https://github.com/scikit-learn/scikit-learn/issues/21755 */display: inline-block !important;position: relative;}#sk-container-id-5 div.sk-text-repr-fallback {display: none;}</style><div id=\"sk-container-id-5\" class=\"sk-top-container\"><div class=\"sk-text-repr-fallback\"><pre>LinearRegression()</pre><b>In a Jupyter environment, please rerun this cell to show the HTML representation or trust the notebook. <br />On GitHub, the HTML representation is unable to render, please try loading this page with nbviewer.org.</b></div><div class=\"sk-container\" hidden><div class=\"sk-item\"><div class=\"sk-estimator sk-toggleable\"><input class=\"sk-toggleable__control sk-hidden--visually\" id=\"sk-estimator-id-5\" type=\"checkbox\" checked><label for=\"sk-estimator-id-5\" class=\"sk-toggleable__label sk-toggleable__label-arrow\">LinearRegression</label><div class=\"sk-toggleable__content\"><pre>LinearRegression()</pre></div></div></div></div></div>"
      ],
      "text/plain": [
       "LinearRegression()"
      ]
     },
     "execution_count": 48,
     "metadata": {},
     "output_type": "execute_result"
    }
   ],
   "source": [
    "lr = LinearRegression()\n",
    "lr.fit(X_train, y_train)"
   ]
  },
  {
   "cell_type": "code",
   "execution_count": 49,
   "id": "51781f33-82c8-4723-8d6d-93377ffa27cc",
   "metadata": {},
   "outputs": [
    {
     "data": {
      "text/plain": [
       "array([67.65712361])"
      ]
     },
     "execution_count": 49,
     "metadata": {},
     "output_type": "execute_result"
    }
   ],
   "source": [
    "lr.coef_"
   ]
  },
  {
   "cell_type": "code",
   "execution_count": 50,
   "id": "ad9ac335-9470-4149-b850-9cb0f6f1424b",
   "metadata": {},
   "outputs": [
    {
     "data": {
      "text/plain": [
       "0.4169717039675749"
      ]
     },
     "execution_count": 50,
     "metadata": {},
     "output_type": "execute_result"
    }
   ],
   "source": [
    "lr.intercept_"
   ]
  },
  {
   "cell_type": "code",
   "execution_count": 51,
   "id": "3f6397bf-3421-449c-844a-30526d259341",
   "metadata": {},
   "outputs": [
    {
     "data": {
      "text/plain": [
       "array([   2.63748957,  114.79307822,   72.97721597,  153.31848434,\n",
       "         16.47213208,   -5.99526266,    0.55672243, -154.40384602,\n",
       "        -35.07626788,  -70.62414548,  -97.73177637,  102.12717867,\n",
       "         99.33003743,   44.71247643,  -16.00673272,   18.98614069,\n",
       "       -119.87826367,  -79.41722265,   60.92627614, -111.29005354])"
      ]
     },
     "execution_count": 51,
     "metadata": {},
     "output_type": "execute_result"
    }
   ],
   "source": [
    "y_pred1 = lr.predict(X_test)\n",
    "y_pred1"
   ]
  },
  {
   "cell_type": "code",
   "execution_count": 52,
   "id": "fd217c52-8865-4603-9fc3-326b96beb0da",
   "metadata": {},
   "outputs": [],
   "source": [
    "from sklearn.metrics import r2_score"
   ]
  },
  {
   "cell_type": "code",
   "execution_count": 53,
   "id": "49ecef37-c728-4468-afa9-222e8756c429",
   "metadata": {},
   "outputs": [
    {
     "data": {
      "text/plain": [
       "0.9723206505704729"
      ]
     },
     "execution_count": 53,
     "metadata": {},
     "output_type": "execute_result"
    }
   ],
   "source": [
    "score1 = r2_score(y_pred1, y_test)\n",
    "score1"
   ]
  },
  {
   "cell_type": "markdown",
   "id": "d115b55c-9798-4049-9940-0e13235fec39",
   "metadata": {},
   "source": [
    "## Ridge Regression (scikit-learn):"
   ]
  },
  {
   "cell_type": "markdown",
   "id": "baff7e69-494a-4662-bc11-84878d2f79e6",
   "metadata": {},
   "source": [
    "* #### Ridge Regression is implemented using `Ridge` from scikit-learn with `alpha=10`.\n",
    "* #### Coefficients and intercept are compared to linear regression.\n",
    "* #### Predictions and R² score are computed."
   ]
  },
  {
   "cell_type": "code",
   "execution_count": 54,
   "id": "35dbdd76-7668-4a24-88a5-ff6d83d06a67",
   "metadata": {},
   "outputs": [],
   "source": [
    "from sklearn.linear_model import Ridge"
   ]
  },
  {
   "cell_type": "code",
   "execution_count": 55,
   "id": "062018b3-53b0-48aa-8e9e-0e5df058742f",
   "metadata": {},
   "outputs": [
    {
     "data": {
      "text/html": [
       "<style>#sk-container-id-6 {color: black;}#sk-container-id-6 pre{padding: 0;}#sk-container-id-6 div.sk-toggleable {background-color: white;}#sk-container-id-6 label.sk-toggleable__label {cursor: pointer;display: block;width: 100%;margin-bottom: 0;padding: 0.3em;box-sizing: border-box;text-align: center;}#sk-container-id-6 label.sk-toggleable__label-arrow:before {content: \"▸\";float: left;margin-right: 0.25em;color: #696969;}#sk-container-id-6 label.sk-toggleable__label-arrow:hover:before {color: black;}#sk-container-id-6 div.sk-estimator:hover label.sk-toggleable__label-arrow:before {color: black;}#sk-container-id-6 div.sk-toggleable__content {max-height: 0;max-width: 0;overflow: hidden;text-align: left;background-color: #f0f8ff;}#sk-container-id-6 div.sk-toggleable__content pre {margin: 0.2em;color: black;border-radius: 0.25em;background-color: #f0f8ff;}#sk-container-id-6 input.sk-toggleable__control:checked~div.sk-toggleable__content {max-height: 200px;max-width: 100%;overflow: auto;}#sk-container-id-6 input.sk-toggleable__control:checked~label.sk-toggleable__label-arrow:before {content: \"▾\";}#sk-container-id-6 div.sk-estimator input.sk-toggleable__control:checked~label.sk-toggleable__label {background-color: #d4ebff;}#sk-container-id-6 div.sk-label input.sk-toggleable__control:checked~label.sk-toggleable__label {background-color: #d4ebff;}#sk-container-id-6 input.sk-hidden--visually {border: 0;clip: rect(1px 1px 1px 1px);clip: rect(1px, 1px, 1px, 1px);height: 1px;margin: -1px;overflow: hidden;padding: 0;position: absolute;width: 1px;}#sk-container-id-6 div.sk-estimator {font-family: monospace;background-color: #f0f8ff;border: 1px dotted black;border-radius: 0.25em;box-sizing: border-box;margin-bottom: 0.5em;}#sk-container-id-6 div.sk-estimator:hover {background-color: #d4ebff;}#sk-container-id-6 div.sk-parallel-item::after {content: \"\";width: 100%;border-bottom: 1px solid gray;flex-grow: 1;}#sk-container-id-6 div.sk-label:hover label.sk-toggleable__label {background-color: #d4ebff;}#sk-container-id-6 div.sk-serial::before {content: \"\";position: absolute;border-left: 1px solid gray;box-sizing: border-box;top: 0;bottom: 0;left: 50%;z-index: 0;}#sk-container-id-6 div.sk-serial {display: flex;flex-direction: column;align-items: center;background-color: white;padding-right: 0.2em;padding-left: 0.2em;position: relative;}#sk-container-id-6 div.sk-item {position: relative;z-index: 1;}#sk-container-id-6 div.sk-parallel {display: flex;align-items: stretch;justify-content: center;background-color: white;position: relative;}#sk-container-id-6 div.sk-item::before, #sk-container-id-6 div.sk-parallel-item::before {content: \"\";position: absolute;border-left: 1px solid gray;box-sizing: border-box;top: 0;bottom: 0;left: 50%;z-index: -1;}#sk-container-id-6 div.sk-parallel-item {display: flex;flex-direction: column;z-index: 1;position: relative;background-color: white;}#sk-container-id-6 div.sk-parallel-item:first-child::after {align-self: flex-end;width: 50%;}#sk-container-id-6 div.sk-parallel-item:last-child::after {align-self: flex-start;width: 50%;}#sk-container-id-6 div.sk-parallel-item:only-child::after {width: 0;}#sk-container-id-6 div.sk-dashed-wrapped {border: 1px dashed gray;margin: 0 0.4em 0.5em 0.4em;box-sizing: border-box;padding-bottom: 0.4em;background-color: white;}#sk-container-id-6 div.sk-label label {font-family: monospace;font-weight: bold;display: inline-block;line-height: 1.2em;}#sk-container-id-6 div.sk-label-container {text-align: center;}#sk-container-id-6 div.sk-container {/* jupyter's `normalize.less` sets `[hidden] { display: none; }` but bootstrap.min.css set `[hidden] { display: none !important; }` so we also need the `!important` here to be able to override the default hidden behavior on the sphinx rendered scikit-learn.org. See: https://github.com/scikit-learn/scikit-learn/issues/21755 */display: inline-block !important;position: relative;}#sk-container-id-6 div.sk-text-repr-fallback {display: none;}</style><div id=\"sk-container-id-6\" class=\"sk-top-container\"><div class=\"sk-text-repr-fallback\"><pre>Ridge(alpha=10)</pre><b>In a Jupyter environment, please rerun this cell to show the HTML representation or trust the notebook. <br />On GitHub, the HTML representation is unable to render, please try loading this page with nbviewer.org.</b></div><div class=\"sk-container\" hidden><div class=\"sk-item\"><div class=\"sk-estimator sk-toggleable\"><input class=\"sk-toggleable__control sk-hidden--visually\" id=\"sk-estimator-id-6\" type=\"checkbox\" checked><label for=\"sk-estimator-id-6\" class=\"sk-toggleable__label sk-toggleable__label-arrow\">Ridge</label><div class=\"sk-toggleable__content\"><pre>Ridge(alpha=10)</pre></div></div></div></div></div>"
      ],
      "text/plain": [
       "Ridge(alpha=10)"
      ]
     },
     "execution_count": 55,
     "metadata": {},
     "output_type": "execute_result"
    }
   ],
   "source": [
    "rid = Ridge(10)\n",
    "rid.fit(X_train, y_train)"
   ]
  },
  {
   "cell_type": "code",
   "execution_count": 56,
   "id": "918dd819-7904-415b-a823-357853e2b4d5",
   "metadata": {},
   "outputs": [
    {
     "data": {
      "text/plain": [
       "array([59.48927189])"
      ]
     },
     "execution_count": 56,
     "metadata": {},
     "output_type": "execute_result"
    }
   ],
   "source": [
    "rid.coef_"
   ]
  },
  {
   "cell_type": "code",
   "execution_count": 57,
   "id": "dfcc43b4-ee49-49da-8264-1b476c4dadd9",
   "metadata": {},
   "outputs": [
    {
     "data": {
      "text/plain": [
       "0.5581540688034439"
      ]
     },
     "execution_count": 57,
     "metadata": {},
     "output_type": "execute_result"
    }
   ],
   "source": [
    "rid.intercept_"
   ]
  },
  {
   "cell_type": "code",
   "execution_count": 58,
   "id": "402fbc6f-c7ca-43dd-97cb-23f6f7979775",
   "metadata": {},
   "outputs": [
    {
     "data": {
      "text/plain": [
       "array([   2.51060171,  101.1262973 ,   64.35862132,  135.00075482,\n",
       "         14.67506814,   -5.07996847,    0.6810335 , -135.57204521,\n",
       "        -30.65019277,  -61.9065815 ,  -85.74166549,   89.98947827,\n",
       "         87.53001966,   39.50611969,  -13.88281187,   16.8855751 ,\n",
       "       -105.21453597,  -69.63812152,   53.7625215 ,  -97.66313058])"
      ]
     },
     "execution_count": 58,
     "metadata": {},
     "output_type": "execute_result"
    }
   ],
   "source": [
    "y_pred2 = rid.predict(X_test)\n",
    "y_pred2"
   ]
  },
  {
   "cell_type": "code",
   "execution_count": 59,
   "id": "5ebddaa9-4477-4cff-9c35-81ad862156e8",
   "metadata": {},
   "outputs": [
    {
     "data": {
      "text/plain": [
       "0.9287284291391521"
      ]
     },
     "execution_count": 59,
     "metadata": {},
     "output_type": "execute_result"
    }
   ],
   "source": [
    "score2 = r2_score(y_pred2, y_test)\n",
    "score2"
   ]
  },
  {
   "cell_type": "markdown",
   "id": "db1a9f68-96b3-4da6-be7f-657765bff485",
   "metadata": {},
   "source": [
    "## Custom Ridge Regression Implementation:"
   ]
  },
  {
   "cell_type": "markdown",
   "id": "66b847c6-9f04-43c9-8394-f51318efbfa3",
   "metadata": {},
   "source": [
    "* #### A custom Ridge Regression class is implemented from scratch.\n",
    "* #### The `fit` method calculates coefficients using the closed-form solution with L2 regularization.\n",
    "* #### The `predict` method uses these coefficients to make predictions.\n",
    "* #### Results are validated against scikit-learn's implementation."
   ]
  },
  {
   "cell_type": "code",
   "execution_count": 60,
   "id": "3e6164fe-d456-4c6b-afaf-d54bdc9d47ef",
   "metadata": {},
   "outputs": [],
   "source": [
    "class RidgeRegression:\n",
    "    def __init__(self, alpha):\n",
    "        self.m = None\n",
    "        self.b = None\n",
    "        self.alpha = alpha\n",
    "\n",
    "    def fit(self, X_train, y_train):\n",
    "        num = 0\n",
    "        den = 0\n",
    "\n",
    "        X_train_mean = X_train.mean()\n",
    "        y_train_mean = y_train.mean()\n",
    "\n",
    "        for i in range(X_train.shape[0]):\n",
    "            num += (X_train[i] - X_train_mean) * (y_train[i] - y_train.mean())\n",
    "            den += (X_train[i] - X_train_mean) ** 2\n",
    "\n",
    "        self.m = num/(den + self.alpha)\n",
    "        self.b = y_train_mean - (self.m * X_train_mean)\n",
    "\n",
    "    def predict(self, X_test):\n",
    "        return (self.m * X_test) + self.b"
   ]
  },
  {
   "cell_type": "code",
   "execution_count": 61,
   "id": "74c83dfd-7a88-4329-96db-dda95ebaa747",
   "metadata": {},
   "outputs": [],
   "source": [
    "rid2 = RidgeRegression(10)\n",
    "rid2.fit(X_train, y_train)"
   ]
  },
  {
   "cell_type": "code",
   "execution_count": 62,
   "id": "9541112c-7651-47a8-aaf6-b4cc32fa8433",
   "metadata": {},
   "outputs": [
    {
     "data": {
      "text/plain": [
       "array([59.48927189])"
      ]
     },
     "execution_count": 62,
     "metadata": {},
     "output_type": "execute_result"
    }
   ],
   "source": [
    "rid2.m"
   ]
  },
  {
   "cell_type": "code",
   "execution_count": 63,
   "id": "4b694ef4-e9b1-4de5-a938-c12e5f8a8b60",
   "metadata": {},
   "outputs": [
    {
     "data": {
      "text/plain": [
       "array([0.55815407])"
      ]
     },
     "execution_count": 63,
     "metadata": {},
     "output_type": "execute_result"
    }
   ],
   "source": [
    "rid2.b"
   ]
  },
  {
   "cell_type": "code",
   "execution_count": 64,
   "id": "fd570cc8-08e4-485d-90fc-83847c76a417",
   "metadata": {},
   "outputs": [
    {
     "data": {
      "text/plain": [
       "array([[   2.51060171],\n",
       "       [ 101.1262973 ],\n",
       "       [  64.35862132],\n",
       "       [ 135.00075482],\n",
       "       [  14.67506814],\n",
       "       [  -5.07996847],\n",
       "       [   0.6810335 ],\n",
       "       [-135.57204521],\n",
       "       [ -30.65019277],\n",
       "       [ -61.9065815 ],\n",
       "       [ -85.74166549],\n",
       "       [  89.98947827],\n",
       "       [  87.53001966],\n",
       "       [  39.50611969],\n",
       "       [ -13.88281187],\n",
       "       [  16.8855751 ],\n",
       "       [-105.21453597],\n",
       "       [ -69.63812152],\n",
       "       [  53.7625215 ],\n",
       "       [ -97.66313058]])"
      ]
     },
     "execution_count": 64,
     "metadata": {},
     "output_type": "execute_result"
    }
   ],
   "source": [
    "y_pred3 = rid2.predict(X_test)\n",
    "y_pred3"
   ]
  },
  {
   "cell_type": "code",
   "execution_count": 65,
   "id": "d360bcd5-dbdb-4b3c-852e-14b33d824374",
   "metadata": {},
   "outputs": [
    {
     "data": {
      "text/plain": [
       "0.9287284291391515"
      ]
     },
     "execution_count": 65,
     "metadata": {},
     "output_type": "execute_result"
    }
   ],
   "source": [
    "score3 = r2_score(y_pred3, y_test)\n",
    "score3"
   ]
  },
  {
   "cell_type": "markdown",
   "id": "b9b6838e-4d3f-42e4-9e91-0a3f9b9fb0ee",
   "metadata": {},
   "source": [
    "## Observations"
   ]
  },
  {
   "cell_type": "markdown",
   "id": "97ad75bd-d4e2-47b4-acbe-05fa365de6c1",
   "metadata": {},
   "source": [
    "* #### Ridge Regression shrinks coefficients compared to linear regression due to the L2 penalty.\n",
    "* #### The custom implementation matches scikit-learn's results, confirming correctness.\n",
    "* #### The R² score is slightly lower for Ridge Regression, but the model is more regularized and less prone to overfitting."
   ]
  }
 ],
 "metadata": {
  "kernelspec": {
   "display_name": "Python 3 (ipykernel)",
   "language": "python",
   "name": "python3"
  },
  "language_info": {
   "codemirror_mode": {
    "name": "ipython",
    "version": 3
   },
   "file_extension": ".py",
   "mimetype": "text/x-python",
   "name": "python",
   "nbconvert_exporter": "python",
   "pygments_lexer": "ipython3",
   "version": "3.8.10"
  }
 },
 "nbformat": 4,
 "nbformat_minor": 5
}
