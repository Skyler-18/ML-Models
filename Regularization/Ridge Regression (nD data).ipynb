{
 "cells": [
  {
   "cell_type": "markdown",
   "id": "4cd9ebcb-5c45-42f0-9469-e78c9230b7e7",
   "metadata": {},
   "source": [
    "# **Ridge Regression (nD Data) From Scratch**"
   ]
  },
  {
   "cell_type": "markdown",
   "id": "73e17263-5584-46aa-a406-7e8fa9e63124",
   "metadata": {},
   "source": [
    "## Overview"
   ]
  },
  {
   "cell_type": "markdown",
   "id": "0d0b4644-882b-4cb6-9151-b4290dfa8daa",
   "metadata": {},
   "source": [
    "### This notebook extends Ridge Regression to a multi-dimensional dataset (the Diabetes dataset). The focus is on handling higher-dimensional data and comparing scikit-learn's implementation with a custom solution."
   ]
  },
  {
   "cell_type": "code",
   "execution_count": 51,
   "id": "346e586b-9b05-46a3-92e7-a9ae076e784f",
   "metadata": {},
   "outputs": [],
   "source": [
    "from sklearn.datasets import load_diabetes\n",
    "import numpy as np"
   ]
  },
  {
   "cell_type": "markdown",
   "id": "a24cf47a-19c0-4157-a2a8-f530fa4ffa11",
   "metadata": {},
   "source": [
    "## Data Loading:"
   ]
  },
  {
   "cell_type": "markdown",
   "id": "ebad0856-474a-45c7-8905-473188fdfadb",
   "metadata": {},
   "source": [
    "### The Diabetes dataset is loaded using `load_diabetes`, containing 10 features and a target variable."
   ]
  },
  {
   "cell_type": "code",
   "execution_count": 52,
   "id": "9cb69500-4600-43d3-b7cd-fa86e060e8cf",
   "metadata": {},
   "outputs": [],
   "source": [
    "X, y = load_diabetes(return_X_y = True)"
   ]
  },
  {
   "cell_type": "code",
   "execution_count": 53,
   "id": "1b02bb4d-7b72-43a2-b92c-8e128a1fbd8b",
   "metadata": {},
   "outputs": [
    {
     "data": {
      "text/plain": [
       "(442, 10)"
      ]
     },
     "execution_count": 53,
     "metadata": {},
     "output_type": "execute_result"
    }
   ],
   "source": [
    "X.shape"
   ]
  },
  {
   "cell_type": "code",
   "execution_count": 54,
   "id": "c682ac86-e2be-4f63-9e34-81752bb23219",
   "metadata": {},
   "outputs": [
    {
     "data": {
      "text/plain": [
       "(442,)"
      ]
     },
     "execution_count": 54,
     "metadata": {},
     "output_type": "execute_result"
    }
   ],
   "source": [
    "y.shape"
   ]
  },
  {
   "cell_type": "markdown",
   "id": "006925bb-f13f-404d-b526-bae05da9cb3a",
   "metadata": {},
   "source": [
    "## Train-Test Split:"
   ]
  },
  {
   "cell_type": "markdown",
   "id": "28bb3d8d-5a23-41a4-b92c-af76d1fa31d7",
   "metadata": {},
   "source": [
    "### The data is split into training and testing sets."
   ]
  },
  {
   "cell_type": "code",
   "execution_count": 55,
   "id": "995fc336-6a19-4bb8-a281-36cfe51dfebc",
   "metadata": {},
   "outputs": [],
   "source": [
    "from sklearn.model_selection import train_test_split"
   ]
  },
  {
   "cell_type": "code",
   "execution_count": 56,
   "id": "7ce05fe9-f5bd-4bbe-8fb2-c6dd8c7b631b",
   "metadata": {},
   "outputs": [],
   "source": [
    "X_train, X_test, y_train, y_test = train_test_split(X, y, test_size=0.2, random_state = 18)"
   ]
  },
  {
   "cell_type": "code",
   "execution_count": 57,
   "id": "98de293c-6094-46ea-b72c-17f198822d04",
   "metadata": {},
   "outputs": [
    {
     "data": {
      "text/plain": [
       "(353, 10)"
      ]
     },
     "execution_count": 57,
     "metadata": {},
     "output_type": "execute_result"
    }
   ],
   "source": [
    "X_train.shape"
   ]
  },
  {
   "cell_type": "code",
   "execution_count": 58,
   "id": "468431b4-7467-4fed-9741-2ca064d0a746",
   "metadata": {},
   "outputs": [
    {
     "data": {
      "text/plain": [
       "(89, 10)"
      ]
     },
     "execution_count": 58,
     "metadata": {},
     "output_type": "execute_result"
    }
   ],
   "source": [
    "X_test.shape"
   ]
  },
  {
   "cell_type": "code",
   "execution_count": 59,
   "id": "68ef87a4-6fa8-4687-a90c-23bbb54860e3",
   "metadata": {},
   "outputs": [
    {
     "data": {
      "text/plain": [
       "(353,)"
      ]
     },
     "execution_count": 59,
     "metadata": {},
     "output_type": "execute_result"
    }
   ],
   "source": [
    "y_train.shape"
   ]
  },
  {
   "cell_type": "code",
   "execution_count": 60,
   "id": "ce55f90a-1eba-4720-b107-a9e415599c5c",
   "metadata": {},
   "outputs": [
    {
     "data": {
      "text/plain": [
       "(89,)"
      ]
     },
     "execution_count": 60,
     "metadata": {},
     "output_type": "execute_result"
    }
   ],
   "source": [
    "y_test.shape"
   ]
  },
  {
   "cell_type": "markdown",
   "id": "5ab720d7-424d-4d8e-a80e-7da06ca91fe4",
   "metadata": {},
   "source": [
    "## Ridge Regression (scikit-learn):"
   ]
  },
  {
   "cell_type": "markdown",
   "id": "474c5d05-b2ef-4292-869f-2f7bea28fe72",
   "metadata": {},
   "source": [
    "* #### Ridge Regression is applied using `Ridge` with `alpha=0.1` and the Cholesky solver.\n",
    "* #### Coefficients, intercept, and predictions are extracted.\n",
    "* #### The R² score is computed to evaluate performance."
   ]
  },
  {
   "cell_type": "code",
   "execution_count": 61,
   "id": "35ac8628-f530-409b-ad57-a7969307b387",
   "metadata": {},
   "outputs": [],
   "source": [
    "from sklearn.linear_model import Ridge"
   ]
  },
  {
   "cell_type": "code",
   "execution_count": 62,
   "id": "633a0f72-5ef9-4870-af4c-6fdb23577537",
   "metadata": {},
   "outputs": [
    {
     "data": {
      "text/html": [
       "<style>#sk-container-id-3 {color: black;}#sk-container-id-3 pre{padding: 0;}#sk-container-id-3 div.sk-toggleable {background-color: white;}#sk-container-id-3 label.sk-toggleable__label {cursor: pointer;display: block;width: 100%;margin-bottom: 0;padding: 0.3em;box-sizing: border-box;text-align: center;}#sk-container-id-3 label.sk-toggleable__label-arrow:before {content: \"▸\";float: left;margin-right: 0.25em;color: #696969;}#sk-container-id-3 label.sk-toggleable__label-arrow:hover:before {color: black;}#sk-container-id-3 div.sk-estimator:hover label.sk-toggleable__label-arrow:before {color: black;}#sk-container-id-3 div.sk-toggleable__content {max-height: 0;max-width: 0;overflow: hidden;text-align: left;background-color: #f0f8ff;}#sk-container-id-3 div.sk-toggleable__content pre {margin: 0.2em;color: black;border-radius: 0.25em;background-color: #f0f8ff;}#sk-container-id-3 input.sk-toggleable__control:checked~div.sk-toggleable__content {max-height: 200px;max-width: 100%;overflow: auto;}#sk-container-id-3 input.sk-toggleable__control:checked~label.sk-toggleable__label-arrow:before {content: \"▾\";}#sk-container-id-3 div.sk-estimator input.sk-toggleable__control:checked~label.sk-toggleable__label {background-color: #d4ebff;}#sk-container-id-3 div.sk-label input.sk-toggleable__control:checked~label.sk-toggleable__label {background-color: #d4ebff;}#sk-container-id-3 input.sk-hidden--visually {border: 0;clip: rect(1px 1px 1px 1px);clip: rect(1px, 1px, 1px, 1px);height: 1px;margin: -1px;overflow: hidden;padding: 0;position: absolute;width: 1px;}#sk-container-id-3 div.sk-estimator {font-family: monospace;background-color: #f0f8ff;border: 1px dotted black;border-radius: 0.25em;box-sizing: border-box;margin-bottom: 0.5em;}#sk-container-id-3 div.sk-estimator:hover {background-color: #d4ebff;}#sk-container-id-3 div.sk-parallel-item::after {content: \"\";width: 100%;border-bottom: 1px solid gray;flex-grow: 1;}#sk-container-id-3 div.sk-label:hover label.sk-toggleable__label {background-color: #d4ebff;}#sk-container-id-3 div.sk-serial::before {content: \"\";position: absolute;border-left: 1px solid gray;box-sizing: border-box;top: 0;bottom: 0;left: 50%;z-index: 0;}#sk-container-id-3 div.sk-serial {display: flex;flex-direction: column;align-items: center;background-color: white;padding-right: 0.2em;padding-left: 0.2em;position: relative;}#sk-container-id-3 div.sk-item {position: relative;z-index: 1;}#sk-container-id-3 div.sk-parallel {display: flex;align-items: stretch;justify-content: center;background-color: white;position: relative;}#sk-container-id-3 div.sk-item::before, #sk-container-id-3 div.sk-parallel-item::before {content: \"\";position: absolute;border-left: 1px solid gray;box-sizing: border-box;top: 0;bottom: 0;left: 50%;z-index: -1;}#sk-container-id-3 div.sk-parallel-item {display: flex;flex-direction: column;z-index: 1;position: relative;background-color: white;}#sk-container-id-3 div.sk-parallel-item:first-child::after {align-self: flex-end;width: 50%;}#sk-container-id-3 div.sk-parallel-item:last-child::after {align-self: flex-start;width: 50%;}#sk-container-id-3 div.sk-parallel-item:only-child::after {width: 0;}#sk-container-id-3 div.sk-dashed-wrapped {border: 1px dashed gray;margin: 0 0.4em 0.5em 0.4em;box-sizing: border-box;padding-bottom: 0.4em;background-color: white;}#sk-container-id-3 div.sk-label label {font-family: monospace;font-weight: bold;display: inline-block;line-height: 1.2em;}#sk-container-id-3 div.sk-label-container {text-align: center;}#sk-container-id-3 div.sk-container {/* jupyter's `normalize.less` sets `[hidden] { display: none; }` but bootstrap.min.css set `[hidden] { display: none !important; }` so we also need the `!important` here to be able to override the default hidden behavior on the sphinx rendered scikit-learn.org. See: https://github.com/scikit-learn/scikit-learn/issues/21755 */display: inline-block !important;position: relative;}#sk-container-id-3 div.sk-text-repr-fallback {display: none;}</style><div id=\"sk-container-id-3\" class=\"sk-top-container\"><div class=\"sk-text-repr-fallback\"><pre>Ridge(alpha=0.1, solver=&#x27;cholesky&#x27;)</pre><b>In a Jupyter environment, please rerun this cell to show the HTML representation or trust the notebook. <br />On GitHub, the HTML representation is unable to render, please try loading this page with nbviewer.org.</b></div><div class=\"sk-container\" hidden><div class=\"sk-item\"><div class=\"sk-estimator sk-toggleable\"><input class=\"sk-toggleable__control sk-hidden--visually\" id=\"sk-estimator-id-3\" type=\"checkbox\" checked><label for=\"sk-estimator-id-3\" class=\"sk-toggleable__label sk-toggleable__label-arrow\">Ridge</label><div class=\"sk-toggleable__content\"><pre>Ridge(alpha=0.1, solver=&#x27;cholesky&#x27;)</pre></div></div></div></div></div>"
      ],
      "text/plain": [
       "Ridge(alpha=0.1, solver='cholesky')"
      ]
     },
     "execution_count": 62,
     "metadata": {},
     "output_type": "execute_result"
    }
   ],
   "source": [
    "rid1 = Ridge(alpha=0.1, solver='cholesky')\n",
    "rid1.fit(X_train, y_train)"
   ]
  },
  {
   "cell_type": "code",
   "execution_count": 63,
   "id": "78d8bce9-ea5d-4ce1-a568-a611e646a604",
   "metadata": {},
   "outputs": [
    {
     "data": {
      "text/plain": [
       "array([  39.14749113, -230.68227562,  431.38074999,  306.1111574 ,\n",
       "        -44.62129771,   -7.54913504, -204.1057191 ,  126.03849993,\n",
       "        382.30967543,  108.08233528])"
      ]
     },
     "execution_count": 63,
     "metadata": {},
     "output_type": "execute_result"
    }
   ],
   "source": [
    "rid1.coef_"
   ]
  },
  {
   "cell_type": "code",
   "execution_count": 64,
   "id": "614ad22e-092a-4d00-83d8-0d02d76f5f06",
   "metadata": {},
   "outputs": [
    {
     "data": {
      "text/plain": [
       "153.157781394127"
      ]
     },
     "execution_count": 64,
     "metadata": {},
     "output_type": "execute_result"
    }
   ],
   "source": [
    "rid1.intercept_"
   ]
  },
  {
   "cell_type": "code",
   "execution_count": 65,
   "id": "b33e0ca7-ca55-4308-a158-96761986f8e9",
   "metadata": {},
   "outputs": [
    {
     "data": {
      "text/plain": [
       "array([247.15645792, 113.01119705, 154.84722167, 218.24245931,\n",
       "       167.01873229, 171.50962694, 263.5259099 , 223.76914781,\n",
       "        83.08433163,  89.95974328, 159.04835816, 195.83638689,\n",
       "       126.6653368 ,  77.38477676, 136.25773768, 118.67352388,\n",
       "        95.71804207, 171.90562889, 132.04608097, 218.28511713,\n",
       "       153.79763828,  94.08100346, 111.2594726 , 121.66098045,\n",
       "       240.78571145, 175.74979694, 128.83035513, 135.21176867,\n",
       "       103.99948748, 180.80756289, 174.90892545, 212.03058101,\n",
       "       174.83526447, 151.88930975, 207.40871584, 251.05550673,\n",
       "       104.46474097, 170.29969107, 126.52730347, 216.19302693,\n",
       "       192.71784715, 141.57022837,  99.79048017, 190.64334213,\n",
       "       164.02535995, 192.73869226, 243.86109784, 142.57099197,\n",
       "        93.95653577, 192.69023179,  68.4938671 , 192.99044823,\n",
       "       208.68042152, 161.14023922,  79.23309913, 166.82036292,\n",
       "       156.53626216, 158.30731479, 219.33351423, 179.95197553,\n",
       "       240.92409981, 109.50327619,  67.33848278, 132.08963544,\n",
       "       191.45134262, 187.75558481, 154.09566666, 115.29982484,\n",
       "       224.68497327, 144.70928267, 139.34366454, 124.31412281,\n",
       "       195.09181409, 163.51305217,  59.56661819, 181.07051087,\n",
       "       174.8836082 ,  89.35593596, 200.18361932, 228.32801588,\n",
       "       197.88330765, 148.86901343, 181.14300349, 162.35550567,\n",
       "       150.86994904, 166.17007565,  70.6352425 , 171.93176471,\n",
       "       162.58341067])"
      ]
     },
     "execution_count": 65,
     "metadata": {},
     "output_type": "execute_result"
    }
   ],
   "source": [
    "y_pred1 = rid1.predict(X_test)\n",
    "y_pred1"
   ]
  },
  {
   "cell_type": "code",
   "execution_count": 66,
   "id": "202fdc7f-8574-4ccf-ad26-783cdc6112bf",
   "metadata": {},
   "outputs": [],
   "source": [
    "from sklearn.metrics import r2_score"
   ]
  },
  {
   "cell_type": "code",
   "execution_count": 67,
   "id": "0ccdadee-34dc-4a2f-b977-a8f488178ba1",
   "metadata": {},
   "outputs": [
    {
     "data": {
      "text/plain": [
       "0.47422858803577095"
      ]
     },
     "execution_count": 67,
     "metadata": {},
     "output_type": "execute_result"
    }
   ],
   "source": [
    "score1 = r2_score(y_test, y_pred1)\n",
    "score1"
   ]
  },
  {
   "cell_type": "markdown",
   "id": "486d195f-8a5d-4450-90d1-3e2b79582893",
   "metadata": {},
   "source": [
    "## Custom Ridge Regression Implementation:"
   ]
  },
  {
   "cell_type": "markdown",
   "id": "efdb35f1-ad89-4571-9d8d-9081e3e831d5",
   "metadata": {},
   "source": [
    "* #### A custom Ridge Regression class is implemented for multi-dimensional data.\n",
    "* #### The `fit` method uses matrix operations to solve the regularized least squares problem.\n",
    "* #### The `predict` method applies the learned coefficients to new data.\n",
    "* #### Results are compared with scikit-learn's implementation."
   ]
  },
  {
   "cell_type": "code",
   "execution_count": 68,
   "id": "583dd67a-c654-4ff3-a1ac-1fb4617d5b07",
   "metadata": {},
   "outputs": [],
   "source": [
    "class RidgeRegression:\n",
    "    def __init__(self, alpha):\n",
    "        self.coefficients = None\n",
    "        self.intercept = None\n",
    "        self.alpha = alpha\n",
    "\n",
    "    def fit(self, X_train, y_train):\n",
    "        X_train = np.insert(X_train, 0, 1, axis=1)\n",
    "        I = np.identity(X_train.shape[1])\n",
    "        I[0][0] = 0\n",
    "        \n",
    "        coeff_matrix = np.linalg.inv(np.dot(X_train.T, X_train) + self.alpha*I).dot(X_train.T).dot(y_train)\n",
    "\n",
    "        self.intercept = coeff_matrix[0]\n",
    "        self.coefficients = coeff_matrix[1:]\n",
    "\n",
    "    def predict(self, X_test):\n",
    "        return np.dot(X_test, self.coefficients) + self.intercept"
   ]
  },
  {
   "cell_type": "code",
   "execution_count": 69,
   "id": "9d348b25-0dc1-46d4-9a41-7a74fc651ae3",
   "metadata": {},
   "outputs": [],
   "source": [
    "rid2 = RidgeRegression(0.1)\n",
    "rid2.fit(X_train, y_train)"
   ]
  },
  {
   "cell_type": "code",
   "execution_count": 70,
   "id": "26e6e947-bb31-428a-bd98-023bda044abd",
   "metadata": {},
   "outputs": [
    {
     "data": {
      "text/plain": [
       "array([  39.14749113, -230.68227562,  431.38074999,  306.1111574 ,\n",
       "        -44.62129771,   -7.54913504, -204.1057191 ,  126.03849993,\n",
       "        382.30967543,  108.08233528])"
      ]
     },
     "execution_count": 70,
     "metadata": {},
     "output_type": "execute_result"
    }
   ],
   "source": [
    "rid2.coefficients"
   ]
  },
  {
   "cell_type": "code",
   "execution_count": 71,
   "id": "af9a563d-cf93-4a7c-ae60-253643f0400d",
   "metadata": {},
   "outputs": [
    {
     "data": {
      "text/plain": [
       "153.15778139412694"
      ]
     },
     "execution_count": 71,
     "metadata": {},
     "output_type": "execute_result"
    }
   ],
   "source": [
    "rid2.intercept"
   ]
  },
  {
   "cell_type": "code",
   "execution_count": 72,
   "id": "b04dab53-c364-4e22-96c3-3718af468e14",
   "metadata": {},
   "outputs": [
    {
     "data": {
      "text/plain": [
       "array([247.15645792, 113.01119705, 154.84722167, 218.24245931,\n",
       "       167.01873229, 171.50962694, 263.5259099 , 223.76914781,\n",
       "        83.08433163,  89.95974328, 159.04835816, 195.83638689,\n",
       "       126.6653368 ,  77.38477676, 136.25773768, 118.67352388,\n",
       "        95.71804207, 171.90562889, 132.04608097, 218.28511713,\n",
       "       153.79763828,  94.08100346, 111.2594726 , 121.66098045,\n",
       "       240.78571145, 175.74979694, 128.83035513, 135.21176867,\n",
       "       103.99948748, 180.80756289, 174.90892545, 212.03058101,\n",
       "       174.83526447, 151.88930975, 207.40871584, 251.05550673,\n",
       "       104.46474097, 170.29969107, 126.52730347, 216.19302693,\n",
       "       192.71784715, 141.57022837,  99.79048017, 190.64334213,\n",
       "       164.02535995, 192.73869226, 243.86109784, 142.57099197,\n",
       "        93.95653577, 192.69023179,  68.4938671 , 192.99044823,\n",
       "       208.68042152, 161.14023922,  79.23309913, 166.82036292,\n",
       "       156.53626216, 158.30731479, 219.33351423, 179.95197553,\n",
       "       240.92409981, 109.50327619,  67.33848278, 132.08963544,\n",
       "       191.45134262, 187.75558481, 154.09566666, 115.29982484,\n",
       "       224.68497327, 144.70928267, 139.34366454, 124.31412281,\n",
       "       195.09181409, 163.51305217,  59.56661819, 181.07051087,\n",
       "       174.8836082 ,  89.35593596, 200.18361932, 228.32801588,\n",
       "       197.88330765, 148.86901343, 181.14300349, 162.35550567,\n",
       "       150.86994904, 166.17007565,  70.6352425 , 171.93176471,\n",
       "       162.58341067])"
      ]
     },
     "execution_count": 72,
     "metadata": {},
     "output_type": "execute_result"
    }
   ],
   "source": [
    "y_pred2 = rid2.predict(X_test)\n",
    "y_pred2"
   ]
  },
  {
   "cell_type": "code",
   "execution_count": 73,
   "id": "679b0312-afee-4c12-9523-d9196210688c",
   "metadata": {},
   "outputs": [
    {
     "data": {
      "text/plain": [
       "0.4742285880357714"
      ]
     },
     "execution_count": 73,
     "metadata": {},
     "output_type": "execute_result"
    }
   ],
   "source": [
    "score2 = r2_score(y_test, y_pred2)\n",
    "score2"
   ]
  },
  {
   "cell_type": "markdown",
   "id": "12930b9c-ebdf-46ed-aa3e-cfdd54a456ac",
   "metadata": {},
   "source": [
    "## Observations"
   ]
  },
  {
   "cell_type": "markdown",
   "id": "a8ccaebb-3ee0-415d-9bcf-9e57b91d905a",
   "metadata": {},
   "source": [
    "* #### The custom implementation produces identical coefficients and predictions as scikit-learn, validating the approach.\n",
    "* #### Ridge Regression effectively handles multi-collinearity in higher-dimensional data by shrinking coefficients.\n",
    "* #### The R² score indicates moderate predictive performance, which is expected for this dataset."
   ]
  },
  {
   "cell_type": "markdown",
   "id": "9950a013-08d3-4b7e-9c74-3d470892cf6c",
   "metadata": {},
   "source": [
    "## Key Differences from 1D Case"
   ]
  },
  {
   "cell_type": "markdown",
   "id": "15c609a7-a9b7-4a02-a5d6-579133c2d4c3",
   "metadata": {},
   "source": [
    "* #### The closed-form solution involves matrix operations (`np.linalg.inv`, `np.dot`).\n",
    "* #### The identity matrix (`I`) is adjusted to avoid penalizing the intercept term.\n",
    "* #### The implementation generalizes to any number of features."
   ]
  }
 ],
 "metadata": {
  "kernelspec": {
   "display_name": "Python 3 (ipykernel)",
   "language": "python",
   "name": "python3"
  },
  "language_info": {
   "codemirror_mode": {
    "name": "ipython",
    "version": 3
   },
   "file_extension": ".py",
   "mimetype": "text/x-python",
   "name": "python",
   "nbconvert_exporter": "python",
   "pygments_lexer": "ipython3",
   "version": "3.8.10"
  }
 },
 "nbformat": 4,
 "nbformat_minor": 5
}
