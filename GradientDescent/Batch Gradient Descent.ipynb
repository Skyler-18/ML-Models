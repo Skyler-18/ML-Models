{
 "cells": [
  {
   "cell_type": "markdown",
   "id": "468bed20-51a2-4b56-a704-b972295a3cee",
   "metadata": {},
   "source": [
    "# **Gradient Descent Implementation from Scratch**"
   ]
  },
  {
   "cell_type": "markdown",
   "id": "bd98d350-0bfb-4d32-a3f8-50234351caff",
   "metadata": {},
   "source": [
    "#### This notebook demonstrates three different implementations of linear regression using gradient descent:\n",
    "\n",
    "* Scikit-learn's LinearRegression (Baseline)\n",
    "* Custom Gradient Descent (GD) for 1D data\n",
    "* Custom Batch Gradient Descent (BGD) for multi-dimensional data"
   ]
  },
  {
   "cell_type": "code",
   "execution_count": null,
   "id": "25567d40-ec89-40b1-becd-9860b577be1d",
   "metadata": {},
   "outputs": [],
   "source": [
    "!pip install numpy matplotlib sklearn"
   ]
  },
  {
   "cell_type": "code",
   "execution_count": 204,
   "id": "e6ac2f0f-1684-4a24-98fb-53df56a79947",
   "metadata": {},
   "outputs": [],
   "source": [
    "import numpy as np\n",
    "import matplotlib.pyplot as plt\n",
    "from sklearn.datasets import make_regression"
   ]
  },
  {
   "cell_type": "markdown",
   "id": "9358c82f-caab-4607-8f00-d1baef6a0498",
   "metadata": {},
   "source": [
    "## 1. Data Preparation"
   ]
  },
  {
   "cell_type": "markdown",
   "id": "b253e327-1061-4d6c-b8a8-4188934554e9",
   "metadata": {},
   "source": [
    "* Generated synthetic regression data using make_regression with 100 samples and 1 feature.\n",
    "* Split data into training (80%) and testing sets (20%) using train_test_split."
   ]
  },
  {
   "cell_type": "code",
   "execution_count": 205,
   "id": "9afe4751-fd90-46df-9bb2-4d725c42986f",
   "metadata": {},
   "outputs": [],
   "source": [
    "X,y = make_regression(n_samples=100, n_features=1, n_informative=1, n_targets=1, noise=20, random_state=11)"
   ]
  },
  {
   "cell_type": "code",
   "execution_count": 206,
   "id": "a3e2f5a1-b20d-42e3-a3b4-1db22bcda3e8",
   "metadata": {},
   "outputs": [
    {
     "data": {
      "text/plain": [
       "<matplotlib.collections.PathCollection at 0x2016d97ebb0>"
      ]
     },
     "execution_count": 206,
     "metadata": {},
     "output_type": "execute_result"
    },
    {
     "data": {
      "image/png": "[encoded data removed]",
      "text/plain": [
       "<Figure size 640x480 with 1 Axes>"
      ]
     },
     "metadata": {},
     "output_type": "display_data"
    }
   ],
   "source": [
    "plt.scatter(X,y)"
   ]
  },
  {
   "cell_type": "code",
   "execution_count": 207,
   "id": "1cf00ab7-3e37-41ca-9abf-04429be0f93e",
   "metadata": {},
   "outputs": [],
   "source": [
    "from sklearn.model_selection import train_test_split"
   ]
  },
  {
   "cell_type": "code",
   "execution_count": 208,
   "id": "9b252f7a-c887-4244-a413-6c30584a5a37",
   "metadata": {},
   "outputs": [],
   "source": [
    "X_train, X_test, y_train, y_test = train_test_split(X, y, test_size=0.2, random_state=18)"
   ]
  },
  {
   "cell_type": "markdown",
   "id": "15fd8338-1785-4511-ac93-899ee1b1b285",
   "metadata": {},
   "source": [
    "## 2. Baseline: Scikit-learn Implementation"
   ]
  },
  {
   "cell_type": "markdown",
   "id": "218fdab2-2922-4db5-9ea4-974ad6c2a942",
   "metadata": {},
   "source": [
    "#### Used as a reference to compare our custom implementations."
   ]
  },
  {
   "cell_type": "code",
   "execution_count": 209,
   "id": "cbccd448-1d91-4872-85c7-b79e1808c662",
   "metadata": {},
   "outputs": [],
   "source": [
    "from sklearn.linear_model import LinearRegression"
   ]
  },
  {
   "cell_type": "code",
   "execution_count": 210,
   "id": "8ca8fb89-a4d9-44fa-9f20-b271527592e6",
   "metadata": {},
   "outputs": [
    {
     "data": {
      "text/html": [
       "<style>#sk-container-id-8 {color: black;}#sk-container-id-8 pre{padding: 0;}#sk-container-id-8 div.sk-toggleable {background-color: white;}#sk-container-id-8 label.sk-toggleable__label {cursor: pointer;display: block;width: 100%;margin-bottom: 0;padding: 0.3em;box-sizing: border-box;text-align: center;}#sk-container-id-8 label.sk-toggleable__label-arrow:before {content: \"▸\";float: left;margin-right: 0.25em;color: #696969;}#sk-container-id-8 label.sk-toggleable__label-arrow:hover:before {color: black;}#sk-container-id-8 div.sk-estimator:hover label.sk-toggleable__label-arrow:before {color: black;}#sk-container-id-8 div.sk-toggleable__content {max-height: 0;max-width: 0;overflow: hidden;text-align: left;background-color: #f0f8ff;}#sk-container-id-8 div.sk-toggleable__content pre {margin: 0.2em;color: black;border-radius: 0.25em;background-color: #f0f8ff;}#sk-container-id-8 input.sk-toggleable__control:checked~div.sk-toggleable__content {max-height: 200px;max-width: 100%;overflow: auto;}#sk-container-id-8 input.sk-toggleable__control:checked~label.sk-toggleable__label-arrow:before {content: \"▾\";}#sk-container-id-8 div.sk-estimator input.sk-toggleable__control:checked~label.sk-toggleable__label {background-color: #d4ebff;}#sk-container-id-8 div.sk-label input.sk-toggleable__control:checked~label.sk-toggleable__label {background-color: #d4ebff;}#sk-container-id-8 input.sk-hidden--visually {border: 0;clip: rect(1px 1px 1px 1px);clip: rect(1px, 1px, 1px, 1px);height: 1px;margin: -1px;overflow: hidden;padding: 0;position: absolute;width: 1px;}#sk-container-id-8 div.sk-estimator {font-family: monospace;background-color: #f0f8ff;border: 1px dotted black;border-radius: 0.25em;box-sizing: border-box;margin-bottom: 0.5em;}#sk-container-id-8 div.sk-estimator:hover {background-color: #d4ebff;}#sk-container-id-8 div.sk-parallel-item::after {content: \"\";width: 100%;border-bottom: 1px solid gray;flex-grow: 1;}#sk-container-id-8 div.sk-label:hover label.sk-toggleable__label {background-color: #d4ebff;}#sk-container-id-8 div.sk-serial::before {content: \"\";position: absolute;border-left: 1px solid gray;box-sizing: border-box;top: 0;bottom: 0;left: 50%;z-index: 0;}#sk-container-id-8 div.sk-serial {display: flex;flex-direction: column;align-items: center;background-color: white;padding-right: 0.2em;padding-left: 0.2em;position: relative;}#sk-container-id-8 div.sk-item {position: relative;z-index: 1;}#sk-container-id-8 div.sk-parallel {display: flex;align-items: stretch;justify-content: center;background-color: white;position: relative;}#sk-container-id-8 div.sk-item::before, #sk-container-id-8 div.sk-parallel-item::before {content: \"\";position: absolute;border-left: 1px solid gray;box-sizing: border-box;top: 0;bottom: 0;left: 50%;z-index: -1;}#sk-container-id-8 div.sk-parallel-item {display: flex;flex-direction: column;z-index: 1;position: relative;background-color: white;}#sk-container-id-8 div.sk-parallel-item:first-child::after {align-self: flex-end;width: 50%;}#sk-container-id-8 div.sk-parallel-item:last-child::after {align-self: flex-start;width: 50%;}#sk-container-id-8 div.sk-parallel-item:only-child::after {width: 0;}#sk-container-id-8 div.sk-dashed-wrapped {border: 1px dashed gray;margin: 0 0.4em 0.5em 0.4em;box-sizing: border-box;padding-bottom: 0.4em;background-color: white;}#sk-container-id-8 div.sk-label label {font-family: monospace;font-weight: bold;display: inline-block;line-height: 1.2em;}#sk-container-id-8 div.sk-label-container {text-align: center;}#sk-container-id-8 div.sk-container {/* jupyter's `normalize.less` sets `[hidden] { display: none; }` but bootstrap.min.css set `[hidden] { display: none !important; }` so we also need the `!important` here to be able to override the default hidden behavior on the sphinx rendered scikit-learn.org. See: https://github.com/scikit-learn/scikit-learn/issues/21755 */display: inline-block !important;position: relative;}#sk-container-id-8 div.sk-text-repr-fallback {display: none;}</style><div id=\"sk-container-id-8\" class=\"sk-top-container\"><div class=\"sk-text-repr-fallback\"><pre>LinearRegression()</pre><b>In a Jupyter environment, please rerun this cell to show the HTML representation or trust the notebook. <br />On GitHub, the HTML representation is unable to render, please try loading this page with nbviewer.org.</b></div><div class=\"sk-container\" hidden><div class=\"sk-item\"><div class=\"sk-estimator sk-toggleable\"><input class=\"sk-toggleable__control sk-hidden--visually\" id=\"sk-estimator-id-8\" type=\"checkbox\" checked><label for=\"sk-estimator-id-8\" class=\"sk-toggleable__label sk-toggleable__label-arrow\">LinearRegression</label><div class=\"sk-toggleable__content\"><pre>LinearRegression()</pre></div></div></div></div></div>"
      ],
      "text/plain": [
       "LinearRegression()"
      ]
     },
     "execution_count": 210,
     "metadata": {},
     "output_type": "execute_result"
    }
   ],
   "source": [
    "lr = LinearRegression()\n",
    "lr.fit(X_train, y_train)"
   ]
  },
  {
   "cell_type": "code",
   "execution_count": 211,
   "id": "22a33444-0939-483e-9b26-a2f849bd8091",
   "metadata": {},
   "outputs": [
    {
     "data": {
      "text/plain": [
       "-4.0550173305458745"
      ]
     },
     "execution_count": 211,
     "metadata": {},
     "output_type": "execute_result"
    }
   ],
   "source": [
    "lr.intercept_"
   ]
  },
  {
   "cell_type": "code",
   "execution_count": 212,
   "id": "df82e76b-a21d-43e1-a40e-3f4e9ebe9a3a",
   "metadata": {},
   "outputs": [
    {
     "data": {
      "text/plain": [
       "array([54.15886929])"
      ]
     },
     "execution_count": 212,
     "metadata": {},
     "output_type": "execute_result"
    }
   ],
   "source": [
    "lr.coef_"
   ]
  },
  {
   "cell_type": "code",
   "execution_count": 213,
   "id": "aeeedb7c-05f7-4675-a36d-fc81aa149c7e",
   "metadata": {},
   "outputs": [
    {
     "data": {
      "text/plain": [
       "array([  33.61611873,  -17.66389143, -107.40582118,   50.96726058,\n",
       "        -61.55193864,   53.7627416 ,  -64.68453169,  -61.76686986,\n",
       "        -29.8462551 ,   17.34921842,  -89.49032539,  -62.55709351,\n",
       "         54.85417296,   23.89551059,  -29.82020538,  -19.54840737,\n",
       "        -72.51581848,   16.81532706,  -38.85617402,   71.91748037])"
      ]
     },
     "execution_count": 213,
     "metadata": {},
     "output_type": "execute_result"
    }
   ],
   "source": [
    "y_pred_lr = lr.predict(X_test)\n",
    "y_pred_lr"
   ]
  },
  {
   "cell_type": "code",
   "execution_count": 214,
   "id": "505659dc-5962-42cd-8bf7-48a49003dd56",
   "metadata": {},
   "outputs": [],
   "source": [
    "from sklearn.metrics import r2_score"
   ]
  },
  {
   "cell_type": "code",
   "execution_count": 215,
   "id": "26ad34cc-c709-467d-a859-fc4c20640cdd",
   "metadata": {},
   "outputs": [
    {
     "data": {
      "text/plain": [
       "0.6694286388904935"
      ]
     },
     "execution_count": 215,
     "metadata": {},
     "output_type": "execute_result"
    }
   ],
   "source": [
    "score_lr = r2_score(y_pred_lr, y_test)\n",
    "score_lr"
   ]
  },
  {
   "cell_type": "markdown",
   "id": "5aab34e8-3cc8-426c-a862-b2cff8e9ba33",
   "metadata": {},
   "source": [
    "### Key Results:\n",
    "* Slope (Coefficient): **54.16**\n",
    "* Intercept: **-4.06**\n",
    "* R² Score: **0.669**"
   ]
  },
  {
   "cell_type": "markdown",
   "id": "29a3cf09-db0b-4258-a7f5-e8445e60b0e8",
   "metadata": {},
   "source": [
    "## 3. Custom Gradient Descent (1D Data)"
   ]
  },
  {
   "cell_type": "markdown",
   "id": "ddaea269-1dd8-4438-a16a-4a67871a9ade",
   "metadata": {},
   "source": [
    "#### Implemented vanilla gradient descent for single-feature data.\n",
    "\n",
    "#### Class Features:\n",
    "* Adjustable learning rate (**lr**) and epochs\n",
    "* Tracks slope (**m**) and intercept (**b**) during training\n",
    "* Implements prediction method"
   ]
  },
  {
   "cell_type": "code",
   "execution_count": 216,
   "id": "79a58055-99d1-4d7b-ab7a-d717d211398d",
   "metadata": {},
   "outputs": [],
   "source": [
    "class GDRegressor:\n",
    "    def __init__(self, lr, epochs):\n",
    "        self.lr = lr\n",
    "        self.epochs = epochs\n",
    "        self.m = 100  # Initial slope\n",
    "        self.b = 100  # Initial intercept\n",
    "\n",
    "    def fit(self, X_train, y_train):\n",
    "        # Gradient descent logic\n",
    "        for i in range(self.epochs):\n",
    "            slope_b = -2 * np.sum(y_train - self.m*X_train.ravel() - self.b)\n",
    "            slope_m = -2 * np.sum((y_train - self.m*X_train.ravel() - self.b) * X_train.ravel())\n",
    "\n",
    "            self.b -= (self.lr*slope_b)\n",
    "            self.m -= (self.lr*slope_m)\n",
    "\n",
    "        print(f\"Slope is: {self.m}\\nIntercept is: {self.b}\")\n",
    "\n",
    "    def predict(self, X_test):\n",
    "        return (X_test*self.m) + self.b"
   ]
  },
  {
   "cell_type": "code",
   "execution_count": 217,
   "id": "0ebc7fe3-1c6f-4b63-9f45-e932e0b69aac",
   "metadata": {},
   "outputs": [
    {
     "name": "stdout",
     "output_type": "stream",
     "text": [
      "Slope is: 54.168568283488945\n",
      "Intercept is: -4.043518806470724\n"
     ]
    }
   ],
   "source": [
    "gd = GDRegressor(0.001, 50)\n",
    "gd.fit(X_train, y_train)"
   ]
  },
  {
   "cell_type": "code",
   "execution_count": 218,
   "id": "83cef400-e2cd-490f-ad52-4005ef68e8b4",
   "metadata": {},
   "outputs": [
    {
     "data": {
      "text/plain": [
       "array([[  33.63436356],\n",
       "       [ -17.65483004],\n",
       "       [-107.41283115],\n",
       "       [  50.98861272],\n",
       "       [ -61.55073691],\n",
       "       [  53.78459437],\n",
       "       [ -64.68389096],\n",
       "       [ -61.76570662],\n",
       "       [ -29.83937538],\n",
       "       [  17.3645501 ],\n",
       "       [ -89.49412698],\n",
       "       [ -62.55607179],\n",
       "       [  54.87622119],\n",
       "       [  23.91201461],\n",
       "       [ -29.81332099],\n",
       "       [ -19.53968347],\n",
       "       [ -72.51658021],\n",
       "       [  16.83056314],\n",
       "       [ -38.85090783],\n",
       "       [  71.94258437]])"
      ]
     },
     "execution_count": 218,
     "metadata": {},
     "output_type": "execute_result"
    }
   ],
   "source": [
    "y_pred_gd = gd.predict(X_test)\n",
    "y_pred_gd"
   ]
  },
  {
   "cell_type": "code",
   "execution_count": 219,
   "id": "9bb553f6-9b82-429a-8a22-91e77346c07f",
   "metadata": {},
   "outputs": [
    {
     "data": {
      "text/plain": [
       "0.6695699705081124"
      ]
     },
     "execution_count": 219,
     "metadata": {},
     "output_type": "execute_result"
    }
   ],
   "source": [
    "score_gd = r2_score(y_pred_gd, y_test)\n",
    "score_gd"
   ]
  },
  {
   "cell_type": "markdown",
   "id": "25211810-5470-442d-961a-999a21dff34c",
   "metadata": {},
   "source": [
    "### Key Results:\n",
    "* Slope: 54.17\n",
    "* Intercept: -4.04\n",
    "* R² Score: 0.670 (nearly identical to scikit-learn)"
   ]
  },
  {
   "cell_type": "markdown",
   "id": "69e49104-4a56-4fa6-8cac-e23a3b618778",
   "metadata": {},
   "source": [
    "## 4. Batch Gradient Descent (Multi-Dimensional)"
   ]
  },
  {
   "cell_type": "markdown",
   "id": "e17ec7ea-5eed-44d8-9777-ee97e591f8b2",
   "metadata": {},
   "source": [
    "#### Extended implementation to handle multiple features using vectorized operations.\n",
    "\n",
    "#### Key Improvements:\n",
    "* Uses weight vector (**self.w**) instead of single slope\n",
    "* Implements proper dot products for matrix operations\n",
    "* Handles bias term (**w0**) separately"
   ]
  },
  {
   "cell_type": "code",
   "execution_count": 220,
   "id": "5bd9c0c0-79cc-4b6b-a4b2-adaac76599dd",
   "metadata": {},
   "outputs": [],
   "source": [
    "class BGDRegressor:\n",
    "    def __init__(self, lr, epochs):\n",
    "        self.lr = lr\n",
    "        self.epochs = epochs\n",
    "        self.w0 = 0  # Bias term\n",
    "        self.w = None  # Weight vector\n",
    "\n",
    "    def fit(self, X_train, y_train):\n",
    "        self.w = np.ones((X_train.shape[1],1))\n",
    "        y_train = y_train.reshape(-1,1)\n",
    "        \n",
    "        for i in range(self.epochs):\n",
    "            y_hat = self.w0 + np.dot(X_train,self.w)\n",
    "            error = y_train - y_hat\n",
    "            \n",
    "            # Vectorized gradients\n",
    "            slope_w0 = -2 * np.mean(error)\n",
    "            slope_w = (-2 * np.dot(X_train.T,error)) / X_train.shape[0]\n",
    "\n",
    "            self.w0 -= (self.lr * slope_w0)\n",
    "            self.w -= (self.lr * slope_w)\n",
    "\n",
    "        print(f\"Weight Vector is: {self.w}\\nBias is: {self.w0}\")\n",
    "\n",
    "    def predict(self, X_test):\n",
    "        return self.w0 + np.dot(X_test,self.w)"
   ]
  },
  {
   "cell_type": "code",
   "execution_count": 221,
   "id": "743a6564-a269-4524-a6b3-2b6608c9a303",
   "metadata": {},
   "outputs": [
    {
     "name": "stdout",
     "output_type": "stream",
     "text": [
      "Weight Vector is: [[54.14473453]]\n",
      "Bias is: -4.050107112543151\n"
     ]
    }
   ],
   "source": [
    "bgd = BGDRegressor(0.001, 5000)\n",
    "bgd.fit(X_train, y_train)"
   ]
  },
  {
   "cell_type": "code",
   "execution_count": 222,
   "id": "4658277c-d8ed-4dbd-a196-7b130e2a9309",
   "metadata": {},
   "outputs": [
    {
     "data": {
      "text/plain": [
       "array([[  33.61119728],\n",
       "       [ -17.65542948],\n",
       "       [-107.37393776],\n",
       "       [  50.9578107 ],\n",
       "       [ -61.53202248],\n",
       "       [  53.75256214],\n",
       "       [ -64.66379797],\n",
       "       [ -61.7468976 ],\n",
       "       [ -29.8346137 ],\n",
       "       [  17.34854241],\n",
       "       [ -89.46311768],\n",
       "       [ -62.53691502],\n",
       "       [  54.84370865],\n",
       "       [  23.89312608],\n",
       "       [ -29.80857078],\n",
       "       [ -19.53945358],\n",
       "       [ -72.49304089],\n",
       "       [  16.8147904 ],\n",
       "       [ -38.84218115],\n",
       "       [  71.90256276]])"
      ]
     },
     "execution_count": 222,
     "metadata": {},
     "output_type": "execute_result"
    }
   ],
   "source": [
    "y_pred_bgd = bgd.predict(X_test)\n",
    "y_pred_bgd"
   ]
  },
  {
   "cell_type": "code",
   "execution_count": 223,
   "id": "5bec82eb-f66a-49e9-9064-8e97d7c80bdf",
   "metadata": {},
   "outputs": [
    {
     "data": {
      "text/plain": [
       "0.6694099083154432"
      ]
     },
     "execution_count": 223,
     "metadata": {},
     "output_type": "execute_result"
    }
   ],
   "source": [
    "score_bgd = r2_score(y_pred_bgd, y_test)\n",
    "score_bgd"
   ]
  },
  {
   "cell_type": "markdown",
   "id": "7971e7fd-eded-40c7-b8a0-36dd754718dc",
   "metadata": {},
   "source": [
    "### Key Results:\n",
    "* Slope: 54.14\n",
    "* Intercept: -4.05\n",
    "* R² Score: 0.669 (nearly identical to scikit-learn)"
   ]
  }
 ],
 "metadata": {
  "kernelspec": {
   "display_name": "Python 3 (ipykernel)",
   "language": "python",
   "name": "python3"
  },
  "language_info": {
   "codemirror_mode": {
    "name": "ipython",
    "version": 3
   },
   "file_extension": ".py",
   "mimetype": "text/x-python",
   "name": "python",
   "nbconvert_exporter": "python",
   "pygments_lexer": "ipython3",
   "version": "3.8.10"
  }
 },
 "nbformat": 4,
 "nbformat_minor": 5
}
