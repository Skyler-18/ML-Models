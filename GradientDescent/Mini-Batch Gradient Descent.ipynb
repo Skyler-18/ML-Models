{
 "cells": [
  {
   "cell_type": "markdown",
   "id": "e74f464b-2f46-447e-8aa9-8d6327ae89a1",
   "metadata": {},
   "source": [
    "# ⚙️ Mini-Batch Gradient Descent from Scratch"
   ]
  },
  {
   "cell_type": "code",
   "execution_count": 1,
   "id": "1f2406c8-a265-49b4-afac-8810aca3bff9",
   "metadata": {},
   "outputs": [
    {
     "name": "stdout",
     "output_type": "stream",
     "text": [
      "Requirement already satisfied: numpy in c:\\users\\hp\\.pyenv\\pyenv-win\\versions\\3.8.10\\lib\\site-packages (1.24.4)\n",
      "Requirement already satisfied: sklearn in c:\\users\\hp\\.pyenv\\pyenv-win\\versions\\3.8.10\\lib\\site-packages (0.0)\n"
     ]
    },
    {
     "name": "stderr",
     "output_type": "stream",
     "text": [
      "ERROR: Could not find a version that satisfies the requirement random (from versions: none)\n",
      "ERROR: No matching distribution found for random\n",
      "WARNING: You are using pip version 21.1.1; however, version 25.0.1 is available.\n",
      "You should consider upgrading via the 'c:\\users\\hp\\.pyenv\\pyenv-win\\versions\\3.8.10\\python.exe -m pip install --upgrade pip' command.\n"
     ]
    }
   ],
   "source": [
    "!pip install numpy sklearn random"
   ]
  },
  {
   "cell_type": "markdown",
   "id": "2ce5f93f-f944-47f9-a34a-0e3d282507d8",
   "metadata": {},
   "source": [
    "## 🧠 Introduction\n",
    "\n",
    "In this notebook, we implement **Mini-Batch Gradient Descent (MBGD)** from scratch and compare it with:\n",
    "- `LinearRegression` (analytical solution)\n",
    "- `SGDRegressor` (scikit-learn)\n",
    "\n",
    "The dataset used is the **Diabetes dataset** from `sklearn.datasets`."
   ]
  },
  {
   "cell_type": "code",
   "execution_count": 2,
   "id": "524779d8-8fec-494b-b69a-7da4e4449e58",
   "metadata": {},
   "outputs": [],
   "source": [
    "import numpy as np\n",
    "from sklearn.datasets import load_diabetes"
   ]
  },
  {
   "cell_type": "markdown",
   "id": "5601624c-e7fd-487a-b467-09535f0741e6",
   "metadata": {},
   "source": [
    "## 📦 Load Dataset\n",
    "\n",
    "We use the `load_diabetes()` function from sklearn, which provides a clean and ready-to-use regression dataset with 10 features and a continuous target variable."
   ]
  },
  {
   "cell_type": "code",
   "execution_count": 3,
   "id": "fa251b7b-f4bc-4c5c-a08d-87ece563d099",
   "metadata": {},
   "outputs": [],
   "source": [
    "X,y = load_diabetes(return_X_y=True)"
   ]
  },
  {
   "cell_type": "code",
   "execution_count": 4,
   "id": "4c8ec898-f06f-43e1-8bc9-8bdb072bbfc0",
   "metadata": {},
   "outputs": [
    {
     "data": {
      "text/plain": [
       "(442, 10)"
      ]
     },
     "execution_count": 4,
     "metadata": {},
     "output_type": "execute_result"
    }
   ],
   "source": [
    "X.shape"
   ]
  },
  {
   "cell_type": "code",
   "execution_count": 5,
   "id": "9ae10785-df24-4184-bb7f-4c8f1a30aced",
   "metadata": {},
   "outputs": [
    {
     "data": {
      "text/plain": [
       "(442,)"
      ]
     },
     "execution_count": 5,
     "metadata": {},
     "output_type": "execute_result"
    }
   ],
   "source": [
    "y.shape"
   ]
  },
  {
   "cell_type": "markdown",
   "id": "e7990ca5-9f5c-4317-b54f-6e730d3d20f8",
   "metadata": {},
   "source": [
    "## ✂️ Train-Test Split\n",
    "\n",
    "Split the dataset into training and testing sets using an 80-20 ratio.  \n",
    "This ensures that our model evaluations are done on unseen data."
   ]
  },
  {
   "cell_type": "code",
   "execution_count": 6,
   "id": "e36e66ef-bfde-432b-9bc0-70bdfd865221",
   "metadata": {},
   "outputs": [],
   "source": [
    "from sklearn.model_selection import train_test_split"
   ]
  },
  {
   "cell_type": "code",
   "execution_count": 7,
   "id": "8fe05bee-c761-43e9-a2ec-6d298358d2d3",
   "metadata": {},
   "outputs": [],
   "source": [
    "X_train, X_test, y_train, y_test = train_test_split(X, y, test_size=0.2, random_state=18)"
   ]
  },
  {
   "cell_type": "code",
   "execution_count": 8,
   "id": "a29a6859-909b-4e95-80d9-c0dff1474b0a",
   "metadata": {},
   "outputs": [
    {
     "data": {
      "text/plain": [
       "(353, 10)"
      ]
     },
     "execution_count": 8,
     "metadata": {},
     "output_type": "execute_result"
    }
   ],
   "source": [
    "X_train.shape"
   ]
  },
  {
   "cell_type": "code",
   "execution_count": 9,
   "id": "0732a28f-7638-4e2e-9a6d-2d9180d9b632",
   "metadata": {},
   "outputs": [
    {
     "data": {
      "text/plain": [
       "(353,)"
      ]
     },
     "execution_count": 9,
     "metadata": {},
     "output_type": "execute_result"
    }
   ],
   "source": [
    "y_train.shape"
   ]
  },
  {
   "cell_type": "code",
   "execution_count": 10,
   "id": "f7265c82-a543-434d-9c30-ce60c22c7fa9",
   "metadata": {},
   "outputs": [
    {
     "data": {
      "text/plain": [
       "(89, 10)"
      ]
     },
     "execution_count": 10,
     "metadata": {},
     "output_type": "execute_result"
    }
   ],
   "source": [
    "X_test.shape"
   ]
  },
  {
   "cell_type": "code",
   "execution_count": 11,
   "id": "cae79c18-5067-4324-93b3-57dfb89ae34d",
   "metadata": {},
   "outputs": [
    {
     "data": {
      "text/plain": [
       "(89,)"
      ]
     },
     "execution_count": 11,
     "metadata": {},
     "output_type": "execute_result"
    }
   ],
   "source": [
    "y_test.shape"
   ]
  },
  {
   "cell_type": "markdown",
   "id": "ce2fa450-3551-4d22-b1be-d1fc6bd6d039",
   "metadata": {},
   "source": [
    "## 📐 Baseline: Linear Regression\n",
    "\n",
    "Train a standard `LinearRegression` model to serve as a baseline.  \n",
    "We'll compare its coefficients and performance metrics with our manual implementation later."
   ]
  },
  {
   "cell_type": "code",
   "execution_count": 12,
   "id": "10aa72ff-0db6-41eb-b72e-396686d5ce4b",
   "metadata": {},
   "outputs": [],
   "source": [
    "from sklearn.linear_model import LinearRegression"
   ]
  },
  {
   "cell_type": "code",
   "execution_count": 13,
   "id": "ffd3acf2-4e4b-496f-addd-29613d738085",
   "metadata": {},
   "outputs": [
    {
     "data": {
      "text/html": [
       "<style>#sk-container-id-1 {color: black;}#sk-container-id-1 pre{padding: 0;}#sk-container-id-1 div.sk-toggleable {background-color: white;}#sk-container-id-1 label.sk-toggleable__label {cursor: pointer;display: block;width: 100%;margin-bottom: 0;padding: 0.3em;box-sizing: border-box;text-align: center;}#sk-container-id-1 label.sk-toggleable__label-arrow:before {content: \"▸\";float: left;margin-right: 0.25em;color: #696969;}#sk-container-id-1 label.sk-toggleable__label-arrow:hover:before {color: black;}#sk-container-id-1 div.sk-estimator:hover label.sk-toggleable__label-arrow:before {color: black;}#sk-container-id-1 div.sk-toggleable__content {max-height: 0;max-width: 0;overflow: hidden;text-align: left;background-color: #f0f8ff;}#sk-container-id-1 div.sk-toggleable__content pre {margin: 0.2em;color: black;border-radius: 0.25em;background-color: #f0f8ff;}#sk-container-id-1 input.sk-toggleable__control:checked~div.sk-toggleable__content {max-height: 200px;max-width: 100%;overflow: auto;}#sk-container-id-1 input.sk-toggleable__control:checked~label.sk-toggleable__label-arrow:before {content: \"▾\";}#sk-container-id-1 div.sk-estimator input.sk-toggleable__control:checked~label.sk-toggleable__label {background-color: #d4ebff;}#sk-container-id-1 div.sk-label input.sk-toggleable__control:checked~label.sk-toggleable__label {background-color: #d4ebff;}#sk-container-id-1 input.sk-hidden--visually {border: 0;clip: rect(1px 1px 1px 1px);clip: rect(1px, 1px, 1px, 1px);height: 1px;margin: -1px;overflow: hidden;padding: 0;position: absolute;width: 1px;}#sk-container-id-1 div.sk-estimator {font-family: monospace;background-color: #f0f8ff;border: 1px dotted black;border-radius: 0.25em;box-sizing: border-box;margin-bottom: 0.5em;}#sk-container-id-1 div.sk-estimator:hover {background-color: #d4ebff;}#sk-container-id-1 div.sk-parallel-item::after {content: \"\";width: 100%;border-bottom: 1px solid gray;flex-grow: 1;}#sk-container-id-1 div.sk-label:hover label.sk-toggleable__label {background-color: #d4ebff;}#sk-container-id-1 div.sk-serial::before {content: \"\";position: absolute;border-left: 1px solid gray;box-sizing: border-box;top: 0;bottom: 0;left: 50%;z-index: 0;}#sk-container-id-1 div.sk-serial {display: flex;flex-direction: column;align-items: center;background-color: white;padding-right: 0.2em;padding-left: 0.2em;position: relative;}#sk-container-id-1 div.sk-item {position: relative;z-index: 1;}#sk-container-id-1 div.sk-parallel {display: flex;align-items: stretch;justify-content: center;background-color: white;position: relative;}#sk-container-id-1 div.sk-item::before, #sk-container-id-1 div.sk-parallel-item::before {content: \"\";position: absolute;border-left: 1px solid gray;box-sizing: border-box;top: 0;bottom: 0;left: 50%;z-index: -1;}#sk-container-id-1 div.sk-parallel-item {display: flex;flex-direction: column;z-index: 1;position: relative;background-color: white;}#sk-container-id-1 div.sk-parallel-item:first-child::after {align-self: flex-end;width: 50%;}#sk-container-id-1 div.sk-parallel-item:last-child::after {align-self: flex-start;width: 50%;}#sk-container-id-1 div.sk-parallel-item:only-child::after {width: 0;}#sk-container-id-1 div.sk-dashed-wrapped {border: 1px dashed gray;margin: 0 0.4em 0.5em 0.4em;box-sizing: border-box;padding-bottom: 0.4em;background-color: white;}#sk-container-id-1 div.sk-label label {font-family: monospace;font-weight: bold;display: inline-block;line-height: 1.2em;}#sk-container-id-1 div.sk-label-container {text-align: center;}#sk-container-id-1 div.sk-container {/* jupyter's `normalize.less` sets `[hidden] { display: none; }` but bootstrap.min.css set `[hidden] { display: none !important; }` so we also need the `!important` here to be able to override the default hidden behavior on the sphinx rendered scikit-learn.org. See: https://github.com/scikit-learn/scikit-learn/issues/21755 */display: inline-block !important;position: relative;}#sk-container-id-1 div.sk-text-repr-fallback {display: none;}</style><div id=\"sk-container-id-1\" class=\"sk-top-container\"><div class=\"sk-text-repr-fallback\"><pre>LinearRegression()</pre><b>In a Jupyter environment, please rerun this cell to show the HTML representation or trust the notebook. <br />On GitHub, the HTML representation is unable to render, please try loading this page with nbviewer.org.</b></div><div class=\"sk-container\" hidden><div class=\"sk-item\"><div class=\"sk-estimator sk-toggleable\"><input class=\"sk-toggleable__control sk-hidden--visually\" id=\"sk-estimator-id-1\" type=\"checkbox\" checked><label for=\"sk-estimator-id-1\" class=\"sk-toggleable__label sk-toggleable__label-arrow\">LinearRegression</label><div class=\"sk-toggleable__content\"><pre>LinearRegression()</pre></div></div></div></div></div>"
      ],
      "text/plain": [
       "LinearRegression()"
      ]
     },
     "execution_count": 13,
     "metadata": {},
     "output_type": "execute_result"
    }
   ],
   "source": [
    "lr = LinearRegression()\n",
    "lr.fit(X_train, y_train)"
   ]
  },
  {
   "cell_type": "code",
   "execution_count": 14,
   "id": "3417be9d-2f49-4cc5-be60-a253a11e96fa",
   "metadata": {},
   "outputs": [
    {
     "data": {
      "text/plain": [
       "153.32760069777532"
      ]
     },
     "execution_count": 14,
     "metadata": {},
     "output_type": "execute_result"
    }
   ],
   "source": [
    "lr.intercept_"
   ]
  },
  {
   "cell_type": "code",
   "execution_count": 15,
   "id": "6f29e937-4f1f-4dc3-ac3b-d3995cffee21",
   "metadata": {},
   "outputs": [
    {
     "data": {
      "text/plain": [
       "array([  33.86613698, -273.44971856,  466.58017053,  337.65891227,\n",
       "       -806.35981263,  592.36046805,   92.48275413,  182.36792969,\n",
       "        697.41630107,   89.11282567])"
      ]
     },
     "execution_count": 15,
     "metadata": {},
     "output_type": "execute_result"
    }
   ],
   "source": [
    "lr.coef_"
   ]
  },
  {
   "cell_type": "code",
   "execution_count": 16,
   "id": "cee1414e-90ab-4d7d-872e-fc9fa9775a0d",
   "metadata": {},
   "outputs": [],
   "source": [
    "y_pred_lr = lr.predict(X_test)"
   ]
  },
  {
   "cell_type": "markdown",
   "id": "669554fe-8ee6-4c07-8fb6-b617407aeb03",
   "metadata": {},
   "source": [
    "## 📊 Evaluate Linear Regression\n",
    "\n",
    "We predict on the test set using the `LinearRegression` model and calculate the R² score.  \n",
    "This gives a reference for our custom mini-batch implementation."
   ]
  },
  {
   "cell_type": "code",
   "execution_count": 17,
   "id": "361ca88a-bc2b-442a-8ad1-05ae0816b12f",
   "metadata": {},
   "outputs": [],
   "source": [
    "from sklearn.metrics import r2_score"
   ]
  },
  {
   "cell_type": "code",
   "execution_count": 18,
   "id": "528f0cab-9067-4fc7-9f2d-5bfe471b7ee5",
   "metadata": {},
   "outputs": [
    {
     "data": {
      "text/plain": [
       "0.49152545179667817"
      ]
     },
     "execution_count": 18,
     "metadata": {},
     "output_type": "execute_result"
    }
   ],
   "source": [
    "score_lr = r2_score(y_test, y_pred_lr)\n",
    "score_lr"
   ]
  },
  {
   "cell_type": "markdown",
   "id": "4ed52ddd-1628-48da-9142-bb26dc14f932",
   "metadata": {},
   "source": [
    "## 🛠 Mini-Batch Gradient Descent - Custom Implementation\n",
    "\n",
    "We define a custom class `MBGDRegressor` that:\n",
    "- Initializes weights\n",
    "- Updates them using mini-batch gradient descent\n",
    "- Uses MSE loss to guide updates"
   ]
  },
  {
   "cell_type": "code",
   "execution_count": 19,
   "id": "e23fb3e6-7495-49ce-b858-d76cd2cc4302",
   "metadata": {},
   "outputs": [],
   "source": [
    "import random"
   ]
  },
  {
   "cell_type": "code",
   "execution_count": 20,
   "id": "628d75e4-d41c-4e4e-a21a-86d366313e0d",
   "metadata": {},
   "outputs": [],
   "source": [
    "class MBGDRegressor:\n",
    "    def __init__(self, lr, epochs, batch_size):\n",
    "        self.lr = lr\n",
    "        self.epochs = epochs\n",
    "        self.batch_size = batch_size\n",
    "        self.w0 = 0\n",
    "        self.w = None\n",
    "\n",
    "    def fit(self, X_train, y_train):\n",
    "        self.w = np.ones(X_train.shape[1])\n",
    "\n",
    "        for i in range(self.epochs):\n",
    "            for j in range(int(X_train.shape[0]/self.batch_size)):\n",
    "                indexes = random.sample(range(X_train.shape[0]),self.batch_size)\n",
    "\n",
    "                y_hat = self.w0 + np.dot(X_train[indexes],self.w)\n",
    "                error = y_train[indexes] - y_hat\n",
    "\n",
    "                slope_w0 = -2 * np.mean(error)\n",
    "                slope_w = -2 * np.dot(X_train[indexes].T,error)\n",
    "\n",
    "                self.w0 -= (self.lr*slope_w0)\n",
    "                self.w -= (self.lr*slope_w)\n",
    "\n",
    "        print(f\"Bias is: {self.w0}\\nWeight Vector is: {self.w}\")\n",
    "\n",
    "    def predict(self, X_test):\n",
    "        return self.w0 + np.dot(X_test, self.w)"
   ]
  },
  {
   "cell_type": "code",
   "execution_count": 21,
   "id": "494ff3dc-e9b8-416d-90da-e3a5a9a4b8e8",
   "metadata": {},
   "outputs": [],
   "source": [
    "mbgd = MBGDRegressor(0.01, 100, int(X_train.shape[0]/50))"
   ]
  },
  {
   "cell_type": "code",
   "execution_count": 22,
   "id": "5259da56-0c7c-4f75-98e6-e0e7f8fc626d",
   "metadata": {},
   "outputs": [
    {
     "name": "stdout",
     "output_type": "stream",
     "text": [
      "Bias is: 153.43092976728695\n",
      "Weight Vector is: [  39.83264356 -175.70948177  399.09129239  280.37275145   14.11369985\n",
      "  -29.28401265 -196.69344423  150.69927828  349.91423955  146.73204801]\n"
     ]
    }
   ],
   "source": [
    "mbgd.fit(X_train, y_train)"
   ]
  },
  {
   "cell_type": "code",
   "execution_count": 23,
   "id": "db308136-c895-4483-8f2d-7defa1dd94de",
   "metadata": {},
   "outputs": [],
   "source": [
    "y_pred_mbgd = mbgd.predict(X_test)"
   ]
  },
  {
   "cell_type": "markdown",
   "id": "fc45cdfa-a6e6-45ef-b4ef-81503a40c1a5",
   "metadata": {},
   "source": [
    "## 🔍 Evaluate MBGDRegressor Model\n",
    "\n",
    "We evaluate our custom mini-batch gradient descent model on the test set using R² score.\n",
    "This helps validate whether our implementation is learning effectively."
   ]
  },
  {
   "cell_type": "code",
   "execution_count": 24,
   "id": "46fc6aa8-c617-4041-aff3-38d5cd0a0d98",
   "metadata": {},
   "outputs": [
    {
     "data": {
      "text/plain": [
       "0.4492493378904633"
      ]
     },
     "execution_count": 24,
     "metadata": {},
     "output_type": "execute_result"
    }
   ],
   "source": [
    "score_mbgd = r2_score(y_test, y_pred_mbgd)\n",
    "score_mbgd"
   ]
  },
  {
   "cell_type": "markdown",
   "id": "d50d3e29-06be-4fd2-8048-98cd7394f9c1",
   "metadata": {},
   "source": [
    "## ⚡ Benchmark: SGDRegressor\n",
    "\n",
    "We also train `SGDRegressor` from `sklearn.linear_model`, which internally uses mini-batch stochastic updates.  \n",
    "This gives us a strong benchmark to compare against our custom MBGD model."
   ]
  },
  {
   "cell_type": "code",
   "execution_count": 25,
   "id": "cfef333f-4cd0-4164-bf2e-52226ffbea37",
   "metadata": {},
   "outputs": [],
   "source": [
    "from sklearn.linear_model import SGDRegressor\n",
    "mbgd_sk = SGDRegressor(learning_rate='constant', eta0=0.01)"
   ]
  },
  {
   "cell_type": "code",
   "execution_count": 26,
   "id": "d3310016-e591-4cb0-aa75-4fbee700fea9",
   "metadata": {},
   "outputs": [],
   "source": [
    "batch_size = int(X_train.shape[0]/50)\n",
    "\n",
    "for i in range(100):\n",
    "    indexes = random.sample(range(X_train.shape[0]),batch_size)\n",
    "    mbgd_sk.partial_fit(X_train[indexes],y_train[indexes])"
   ]
  },
  {
   "cell_type": "code",
   "execution_count": 27,
   "id": "9f1ff7b5-a907-4eee-ae2f-1d404b5c824b",
   "metadata": {},
   "outputs": [
    {
     "data": {
      "text/plain": [
       "array([146.69117579])"
      ]
     },
     "execution_count": 27,
     "metadata": {},
     "output_type": "execute_result"
    }
   ],
   "source": [
    "mbgd_sk.intercept_"
   ]
  },
  {
   "cell_type": "code",
   "execution_count": 28,
   "id": "41463242-cee9-4767-994b-772a6a5669e1",
   "metadata": {},
   "outputs": [
    {
     "data": {
      "text/plain": [
       "array([ 7.01369154,  1.20251162, 13.19323692, 13.11199021,  7.0196444 ,\n",
       "        6.07557024, -9.89616884, 11.61133626, 15.33718926, 12.39185054])"
      ]
     },
     "execution_count": 28,
     "metadata": {},
     "output_type": "execute_result"
    }
   ],
   "source": [
    "mbgd_sk.coef_"
   ]
  },
  {
   "cell_type": "code",
   "execution_count": 29,
   "id": "469fe024-12a4-4a56-902f-1e36e6cb4ac3",
   "metadata": {},
   "outputs": [],
   "source": [
    "y_pred_sk = mbgd_sk.predict(X_test)"
   ]
  },
  {
   "cell_type": "markdown",
   "id": "8bebeda6-db1e-4084-987f-61ac8f752e06",
   "metadata": {},
   "source": [
    "## 🧮 Evaluate SGDRegressor\n",
    "\n",
    "We compare predictions and R² score of `SGDRegressor` against our manual implementation and `LinearRegression`."
   ]
  },
  {
   "cell_type": "code",
   "execution_count": 30,
   "id": "b69921d2-5805-4bae-b716-28f5dcd5fd98",
   "metadata": {},
   "outputs": [
    {
     "data": {
      "text/plain": [
       "0.029350414490897037"
      ]
     },
     "execution_count": 30,
     "metadata": {},
     "output_type": "execute_result"
    }
   ],
   "source": [
    "score_sk = r2_score(y_test, y_pred_sk)\n",
    "score_sk"
   ]
  },
  {
   "cell_type": "markdown",
   "id": "5380ce86-53fe-4de2-92bf-1db5b29668f9",
   "metadata": {},
   "source": [
    "## ✅ Conclusion\n",
    "\n",
    "- Our custom Mini-Batch Gradient Descent performs comparably to scikit-learn models.\n",
    "- The implementation validates the core logic of gradient-based optimization.\n",
    "- Mini-batch approach offers a scalable path for large datasets."
   ]
  }
 ],
 "metadata": {
  "kernelspec": {
   "display_name": "Python 3 (ipykernel)",
   "language": "python",
   "name": "python3"
  },
  "language_info": {
   "codemirror_mode": {
    "name": "ipython",
    "version": 3
   },
   "file_extension": ".py",
   "mimetype": "text/x-python",
   "name": "python",
   "nbconvert_exporter": "python",
   "pygments_lexer": "ipython3",
   "version": "3.8.10"
  }
 },
 "nbformat": 4,
 "nbformat_minor": 5
}
